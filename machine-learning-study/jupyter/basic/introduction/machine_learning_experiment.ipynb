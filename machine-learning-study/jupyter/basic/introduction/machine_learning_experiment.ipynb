{
 "cells": [
  {
   "cell_type": "markdown",
   "metadata": {},
   "source": [
    "# 機械学習を手軽に実行してみる\n",
    "\n",
    "## Azure Machine Learning<a name=\"azure_ml\"></a>\n",
    "\n",
    "GUI操作で機械学習を実行でき、WEB APIのエンドポイントまで用意してくれるサービス。\n",
    "\n",
    "- [クラウドでの機械学習の概要](https://docs.microsoft.com/ja-jp/azure/machine-learning/machine-learning-what-is-machine-learning)\n",
    "- [Deploying a Predictive Model as a Web Service](https://azure.microsoft.com/ja-jp/resources/videos/deploying-a-predictive-model-as-a-service-part-i-/)"
   ]
  }
 ],
 "metadata": {
  "anaconda-cloud": {},
  "kernelspec": {
   "display_name": "Python [Root]",
   "language": "python",
   "name": "Python [Root]"
  },
  "language_info": {
   "codemirror_mode": {
    "name": "ipython",
    "version": 3
   },
   "file_extension": ".py",
   "mimetype": "text/x-python",
   "name": "python",
   "nbconvert_exporter": "python",
   "pygments_lexer": "ipython3",
   "version": "3.5.2"
  }
 },
 "nbformat": 4,
 "nbformat_minor": 0
}
