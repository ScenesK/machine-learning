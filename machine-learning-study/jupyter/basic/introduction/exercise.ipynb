{
 "cells": [
  {
   "cell_type": "markdown",
   "metadata": {},
   "source": [
    "# 演習問題1\n",
    "\n",
    "1. [sklearn.datasets](http://scikit-learn.org/stable/modules/classes.html#module-sklearn.datasets)からデータを選び、pandasのデータフレームで確認してみる\n",
    "1. [UCI Machine Learning Repository](https://archive.ics.uci.edu/ml/datasets.html)のデータをダウンロードして、pandasのデータフレームで確認してみる\n",
    "1. オープンデータを探して眺めてみる\n",
    " - [kaggle](https://www.kaggle.com/datasets)\n",
    " - [Google BigQuery 一般公開データセット](https://cloud.google.com/bigquery/public-data/)\n",
    " - [Awesome Public Datasets](https://github.com/caesar0301/awesome-public-datasets)\n",
    " - [hub-db](http://cdipaolo.github.io/hub-db/)"
   ]
  }
 ],
 "metadata": {
  "anaconda-cloud": {},
  "kernelspec": {
   "display_name": "Python [Root]",
   "language": "python",
   "name": "Python [Root]"
  },
  "language_info": {
   "codemirror_mode": {
    "name": "ipython",
    "version": 3
   },
   "file_extension": ".py",
   "mimetype": "text/x-python",
   "name": "python",
   "nbconvert_exporter": "python",
   "pygments_lexer": "ipython3",
   "version": "3.5.2"
  }
 },
 "nbformat": 4,
 "nbformat_minor": 0
}
