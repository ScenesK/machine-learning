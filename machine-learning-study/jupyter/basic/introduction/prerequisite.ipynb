{
 "cells": [
  {
   "cell_type": "markdown",
   "metadata": {},
   "source": [
    "# 予備知識\n",
    "\n",
    "## 線形代数<a name=\"linear_algebra\"></a>\n",
    "\n",
    "### 行列と各要素の表記<a name=\"matrix_expression\"></a>\n",
    "\n",
    "機械学習ではよく行列を扱う。行列というのは、縦 $n$ 行・横 $m$ 列のデータが入ったスプレッドシートをイメージすると良い。\n",
    "\n",
    "|$x^{(1)}_1$|$x^{(1)}_2$|$x^{(1)}_3$|$x^{(1)}_4$|\n",
    "|:-:|:-:|:-:|:-:|\n",
    "|$x^{(2)}_1$|$x^{(2)}_2$|$x^{(2)}_3$|$x^{(2)}_4$|\n",
    "|$x^{(3)}_1$|$x^{(3)}_2$|$x^{(3)}_3$|$x^{(3)}_4$|\n",
    "\n",
    "機械学習の文脈では上のように、行番号を括弧内、列番号を添字で表すことが多い。この場合、行は各サンプル、列はそのサンプルの各特徴(具体的なデータ)を表す。\n",
    "\n",
    "具体例：\n",
    "\n",
    "||国語|数学|英語|\n",
    "|:-:|--:|--:|--:|\n",
    "|Aさん|5|3|4|\n",
    "|Bさん|4|3|4|\n",
    "|Cさん|4|4|4|\n",
    "\n",
    "行または列が1しかないものをベクトルと呼び、行が1のものを行ベクトル、列が1のものを列ベクトルと呼ぶ。\n",
    "\n",
    "行ベクトル $=\\ \\left(x_1,\\ x_2,\\ \\ldots\\ x_n\\right)$\n",
    "\n",
    "列ベクトル $=\\ \\left(\n",
    "    \\begin{array}{c}\n",
    "        x_1 \\\\\n",
    "        x_2 \\\\\n",
    "        \\vdots \\\\\n",
    "        x_n\n",
    "    \\end{array}\n",
    "\\right)$\n",
    "\n",
    "通常、スカラ(単なる数値)やベクトルは$x$のように小文字のアルファベット、行列は$X$のように大文字のアルファベットで表す。\n",
    "\n",
    "$X\\ =\\ \\left(\n",
    "    \\begin{array}{rrr}\n",
    "        x^{(1)}_1 & x^{(1)}_2 & x^{(1)}_3 \\\\\n",
    "        x^{(2)}_1 & x^{(2)}_2 & x^{(2)}_3\n",
    "    \\end{array}\n",
    "\\right)$\n",
    "\n",
    "### 転置<a name=\"transpose\"></a>\n",
    "\n",
    "行ベクトルと列ベクトルを入れ替えたり、行列を対角に沿って反転させることを転置(transpose)と呼び、$X^{\\mathrm{T}}$のように記述する。\n",
    "\n",
    "$X\\ =\\ \\left(\n",
    "    \\begin{array}{rrr}\n",
    "        1 & 2 & 3 \\\\\n",
    "        4 & 5 & 6\n",
    "    \\end{array}\n",
    "\\right),\\ X^{\\mathrm{T}}\\ =\\ \\left(\n",
    "    \\begin{array}{rrr}\n",
    "        1 & 4 \\\\\n",
    "        2 & 5 \\\\\n",
    "        3 & 6\n",
    "    \\end{array}\n",
    "\\right)$\n",
    "\n",
    "### 内積<a name=\"inner_product\"></a>\n",
    "\n",
    "ベクトルや行列を掛ける場合、一定のルールがある。(内積と呼ばれる)\n",
    "\n",
    "まず、ベクトル同士を掛ける場合は、次元(要素数)が同じでなければならない。そして掛ける順番にも意味があり、行ベクトル×列ベクトルの順番でなければならない。計算結果は、それぞれのベクトルの同じ順番の要素同士を掛けたものの和になる。\n",
    "\n",
    "$w\\ =\\ \\left(\n",
    "    \\begin{array}{c}\n",
    "        w_1 \\\\\n",
    "        w_2 \\\\\n",
    "        \\vdots \\\\\n",
    "        w_n\n",
    "    \\end{array}\n",
    "\\right),\\ x\\ =\\ \\left(\n",
    "    \\begin{array}{c}\n",
    "        x_1 \\\\\n",
    "        x_2 \\\\\n",
    "        \\vdots \\\\\n",
    "        x_n\n",
    "    \\end{array}\n",
    "\\right)$\n",
    "\n",
    "$w^{\\mathrm{T}}x\\ =\\ w_1x_1\\ +\\ w_2x_2\\ +\\ \\ldots\\ w_nx_n$\n",
    "\n",
    "具体例：$[\\ 1\\ 2\\ 3\\ ]\\ \\times\\ \\left[\\ \n",
    "    \\begin{array}{r}\n",
    "        4 \\\\\n",
    "        5 \\\\\n",
    "        6\n",
    "    \\end{array}\n",
    "\\right]\\ =\\ 1\\times4\\ +\\ 2\\times5\\ +\\ 3\\times6\\ =\\ 32$\n",
    "\n",
    "行列同士を掛ける場合は少し複雑だが、行列をベクトルの集合として捉えると以下のような手順が覚えやすい。\n",
    "\n",
    "$A\\ =\\ \\left(\n",
    "    \\begin{array}{cccc}\n",
    "        a_{11} & a_{12} & \\ldots & a_{1j} \\\\\n",
    "        a_{21} & a_{22} & \\ldots & a_{2j} \\\\\n",
    "        \\vdots & \\vdots & \\ddots & \\vdots \\\\\n",
    "        a_{i1} & a_{i2} & \\ldots & a_{ij}\n",
    "    \\end{array}\n",
    "\\right),\\ B\\ =\\ \\left(\n",
    "    \\begin{array}{cccc}\n",
    "        b_{11} & b_{12} & \\ldots & b_{1k} \\\\\n",
    "        b_{21} & b_{22} & \\ldots & b_{2k} \\\\\n",
    "        \\vdots & \\vdots & \\ddots & \\vdots \\\\\n",
    "        b_{j1} & b_{j2} & \\ldots & b_{jk}\n",
    "    \\end{array}\n",
    "\\right)$\n",
    "\n",
    "これを\n",
    "\n",
    "$\\begin{cases}\n",
    "    a_1\\ =\\ (\\ a_{11},\\ a_{12},\\ \\ldots\\ a_{1j}\\ ) \\\\\n",
    "    a_2\\ =\\ (\\ a_{21},\\ a_{22},\\ \\ldots\\ a_{2j}\\ ) \\\\\n",
    "    \\vdots \\\\\n",
    "    a_i\\ =\\ (\\ a_{i1},\\ a_{i2},\\ \\ldots\\ a_{ij}\\ )\n",
    "\\end{cases}$\n",
    "\n",
    "$b_1\\ =\\ \\left(\n",
    "    \\begin{array}{c}\n",
    "        b_{11} \\\\\n",
    "        b_{21} \\\\\n",
    "        \\vdots \\\\\n",
    "        b_{j1}\n",
    "    \\end{array}\n",
    "\\right),\\ b_2\\ =\\ \\left(\n",
    "    \\begin{array}{c}\n",
    "        b_{12} \\\\\n",
    "        b_{22} \\\\\n",
    "        \\vdots \\\\\n",
    "        b_{j2}\n",
    "    \\end{array}\n",
    "\\right),\\ \\ldots,\\ b_j\\ =\\ \\left(\n",
    "    \\begin{array}{c}\n",
    "        b_{1k} \\\\\n",
    "        b_{2k} \\\\\n",
    "        \\vdots \\\\\n",
    "        b_{jk}\n",
    "    \\end{array}\n",
    "\\right)$\n",
    "\n",
    "$A\\ =\\ \\left(\n",
    "    \\begin{array}{c}\n",
    "        a_1 \\\\\n",
    "        a_2 \\\\\n",
    "        \\vdots \\\\\n",
    "        a_i\n",
    "    \\end{array}\n",
    "\\right),\\ B\\ =\\ (\\ b_1,\\ b_2,\\ \\ldots\\ b_k\\ )$\n",
    "\n",
    "とすると、それぞれの要素を縦横方向にコピーして形を揃え、同じ位置にあるもの同士を掛けるようにすれば行列の内積になる。$i$行$j$列×$j$行$k$列のように行列の内積は左側の列の次元と右側の行の次元が揃ってなければならない。慣れないうちは、結果として得られるはずの行列のshapeから逆算して内側の数字が揃うように意識しておけば良い。\n",
    "\n",
    "$AB\\ =\\ \\left(\n",
    "    \\begin{array}{cccc}\n",
    "        a_1b_1 & a_1b_2 & \\ldots & a_1b_k \\\\\n",
    "        a_2b_1 & a_2b_2 & \\ldots & a_2b_k \\\\\n",
    "        \\vdots & \\vdots & \\ddots & \\vdots \\\\\n",
    "        a_ib_1 & a_ib_2 & \\ldots & a_ib_k\n",
    "    \\end{array}\n",
    "\\right)$\n",
    "\n",
    "具体例：\n",
    "\n",
    "$\\begin{eqnarray}\n",
    "    \\left(\n",
    "        \\begin{array}{rr}\n",
    "            1 & 2 \\\\\n",
    "            3 & 4 \\\\\n",
    "            5 & 6\n",
    "        \\end{array}\n",
    "    \\right)\\ \\times\\ \\left(\n",
    "        \\begin{array}{rrrr}\n",
    "            7 & 8 & 9 & 10 \\\\\n",
    "            11 & 12 & 13 & 14\n",
    "        \\end{array}\n",
    "    \\right) & = & \\left(\n",
    "        \\begin{array}{c}\n",
    "            (\\ 1\\ 2\\ ) \\\\\n",
    "            (\\ 3\\ 4\\ ) \\\\\n",
    "            (\\ 5\\ 6\\ )\n",
    "        \\end{array}\n",
    "    \\right)\\ \\times\\ \\left(\n",
    "        \\begin{array}{cccc}\n",
    "            \\left(\n",
    "                \\begin{array}{r}\n",
    "                    7 \\\\\n",
    "                    11\n",
    "                \\end{array}\n",
    "            \\right) & \\left(\n",
    "                \\begin{array}{r}\n",
    "                    8 \\\\\n",
    "                    12\n",
    "                \\end{array}\n",
    "            \\right) & \\left(\n",
    "                \\begin{array}{r}\n",
    "                    9 \\\\\n",
    "                    13\n",
    "                \\end{array}\n",
    "            \\right) & \\left(\n",
    "                \\begin{array}{r}\n",
    "                    10 \\\\\n",
    "                    14\n",
    "                \\end{array}\n",
    "            \\right)\n",
    "        \\end{array}\n",
    "    \\right) \\\\\n",
    "    & = & \\left(\n",
    "        \\begin{array}{cccc}\n",
    "            (\\ 1\\ 2\\ )\\ \\times\\ \\left(\n",
    "                \\begin{array}{r}\n",
    "                    7 \\\\\n",
    "                    11\n",
    "                \\end{array}\n",
    "            \\right) & (\\ 1\\ 2\\ )\\ \\times\\ \\left(\n",
    "                \\begin{array}{r}\n",
    "                    8 \\\\\n",
    "                    12\n",
    "                \\end{array}\n",
    "            \\right) & (\\ 1\\ 2\\ )\\ \\times\\ \\left(\n",
    "                \\begin{array}{r}\n",
    "                    9 \\\\\n",
    "                    13\n",
    "                \\end{array}\n",
    "            \\right) & (\\ 1\\ 2\\ )\\ \\times\\ \\left(\n",
    "                \\begin{array}{r}\n",
    "                    10 \\\\\n",
    "                    14\n",
    "                \\end{array}\n",
    "            \\right) \\\\\n",
    "            (\\ 3\\ 4\\ )\\ \\times\\ \\left(\n",
    "                \\begin{array}{r}\n",
    "                    7 \\\\\n",
    "                    11\n",
    "                \\end{array}\n",
    "            \\right) & (\\ 3\\ 4\\ )\\ \\times\\ \\left(\n",
    "                \\begin{array}{r}\n",
    "                    8 \\\\\n",
    "                    12\n",
    "                \\end{array}\n",
    "            \\right) & (\\ 3\\ 4\\ )\\ \\times\\ \\left(\n",
    "                \\begin{array}{r}\n",
    "                    9 \\\\\n",
    "                    13\n",
    "                \\end{array}\n",
    "            \\right) & (\\ 3\\ 4\\ )\\ \\times\\ \\left(\n",
    "                \\begin{array}{r}\n",
    "                    10 \\\\\n",
    "                    14\n",
    "                \\end{array}\n",
    "            \\right) \\\\\n",
    "            (\\ 5\\ 6\\ )\\ \\times\\ \\left(\n",
    "                \\begin{array}{r}\n",
    "                    7 \\\\\n",
    "                    11\n",
    "                \\end{array}\n",
    "            \\right) & (\\ 5\\ 6\\ )\\ \\times\\ \\left(\n",
    "                \\begin{array}{r}\n",
    "                    8 \\\\\n",
    "                    12\n",
    "                \\end{array}\n",
    "            \\right) & (\\ 5\\ 6\\ )\\ \\times\\ \\left(\n",
    "                \\begin{array}{r}\n",
    "                    9 \\\\\n",
    "                    13\n",
    "                \\end{array}\n",
    "            \\right) & (\\ 5\\ 6\\ )\\ \\times\\ \\left(\n",
    "                \\begin{array}{r}\n",
    "                    10 \\\\\n",
    "                    14\n",
    "                \\end{array}\n",
    "            \\right) \\\\\n",
    "        \\end{array}\n",
    "    \\right) \\\\\n",
    "    & = & \\left(\n",
    "        \\begin{array}{rrrr}\n",
    "            29 & 32 & 35 & 38 \\\\\n",
    "            65 & 72 & 79 & 86 \\\\\n",
    "            101 & 112 & 123 & 134\n",
    "        \\end{array}\n",
    "    \\right)\n",
    "\\end{eqnarray}$\n",
    "\n",
    "## Numpy<a name=\"numpy\"></a>\n",
    "\n",
    "### Numpyとは<a name=\"numpy_description\"></a>\n",
    "\n",
    "行列の演算を扱いやすくするライブラリ。\n",
    "行列の計算を並列・高速化する。\n",
    "\n",
    "### インポート<a name=\"numpy_import\"></a>\n",
    "\n",
    "慣例としてnpという名前をつける。"
   ]
  },
  {
   "cell_type": "code",
   "execution_count": null,
   "metadata": {
    "collapsed": true
   },
   "outputs": [],
   "source": [
    "import numpy as np"
   ]
  },
  {
   "cell_type": "markdown",
   "metadata": {},
   "source": [
    "### 配列の基本操作<a name=\"numpy_basic\"></a>\n",
    "\n",
    "np.arrayに引数として配列を渡して作成する。各要素の値の型は一致しなければならない。"
   ]
  },
  {
   "cell_type": "code",
   "execution_count": null,
   "metadata": {
    "collapsed": false
   },
   "outputs": [],
   "source": [
    "a = np.array([1, 2, 3, 4])\n",
    "b = np.array([\n",
    "    [5, 6, 7],\n",
    "    [8, 9, 10]\n",
    "])"
   ]
  },
  {
   "cell_type": "markdown",
   "metadata": {},
   "source": [
    "shapeで配列の次元を確認できる。"
   ]
  },
  {
   "cell_type": "code",
   "execution_count": null,
   "metadata": {
    "collapsed": false
   },
   "outputs": [],
   "source": [
    "a.shape"
   ]
  },
  {
   "cell_type": "code",
   "execution_count": null,
   "metadata": {
    "collapsed": false
   },
   "outputs": [],
   "source": [
    "b.shape"
   ]
  },
  {
   "cell_type": "markdown",
   "metadata": {},
   "source": [
    "Tで転置された行列を取得できる。"
   ]
  },
  {
   "cell_type": "code",
   "execution_count": null,
   "metadata": {
    "collapsed": false
   },
   "outputs": [],
   "source": [
    "b.T"
   ]
  },
  {
   "cell_type": "markdown",
   "metadata": {},
   "source": [
    "reshapeで配列のshapeを変更できる。"
   ]
  },
  {
   "cell_type": "code",
   "execution_count": null,
   "metadata": {
    "collapsed": false
   },
   "outputs": [],
   "source": [
    "b = b.reshape((3, 2))\n",
    "b"
   ]
  },
  {
   "cell_type": "markdown",
   "metadata": {},
   "source": [
    "reshapeの際、インデックスに-1を使用できる。"
   ]
  },
  {
   "cell_type": "code",
   "execution_count": null,
   "metadata": {
    "collapsed": false
   },
   "outputs": [],
   "source": [
    "b = b.reshape((-1, 3))\n",
    "b"
   ]
  },
  {
   "cell_type": "markdown",
   "metadata": {},
   "source": [
    "行ベクトルから列ベクトル(列1の行列)への変換。"
   ]
  },
  {
   "cell_type": "code",
   "execution_count": null,
   "metadata": {
    "collapsed": false
   },
   "outputs": [],
   "source": [
    "a.reshape((-1, 1))"
   ]
  },
  {
   "cell_type": "markdown",
   "metadata": {},
   "source": [
    "配列の中の値は以下のようにして取り出す。"
   ]
  },
  {
   "cell_type": "code",
   "execution_count": null,
   "metadata": {
    "collapsed": false
   },
   "outputs": [],
   "source": [
    "b[0, 2]"
   ]
  },
  {
   "cell_type": "markdown",
   "metadata": {},
   "source": [
    "取り出す範囲も指定できる。"
   ]
  },
  {
   "cell_type": "code",
   "execution_count": null,
   "metadata": {
    "collapsed": false
   },
   "outputs": [],
   "source": [
    "b[0:2, 1:3]"
   ]
  },
  {
   "cell_type": "code",
   "execution_count": null,
   "metadata": {
    "collapsed": false
   },
   "outputs": [],
   "source": [
    "b[:, 1]"
   ]
  },
  {
   "cell_type": "markdown",
   "metadata": {},
   "source": [
    "### 連続する値の作成<a name=\"numpy_serial_number\"></a>\n",
    "\n",
    "arangeで指定した間隔(デフォルトでは1)の配列、linspaceで指定した個数に分割された配列が得られる。"
   ]
  },
  {
   "cell_type": "code",
   "execution_count": null,
   "metadata": {
    "collapsed": false
   },
   "outputs": [],
   "source": [
    "A = np.arange(6).reshape((-1, 2))\n",
    "A"
   ]
  },
  {
   "cell_type": "code",
   "execution_count": null,
   "metadata": {
    "collapsed": false
   },
   "outputs": [],
   "source": [
    "B = np.linspace(6, 9.5, 8).reshape((2, -1))\n",
    "B"
   ]
  },
  {
   "cell_type": "markdown",
   "metadata": {},
   "source": [
    "### 内積<a name=\"numpy_dot\"></a>"
   ]
  },
  {
   "cell_type": "code",
   "execution_count": null,
   "metadata": {
    "collapsed": false
   },
   "outputs": [],
   "source": [
    "A.dot(B)"
   ]
  },
  {
   "cell_type": "markdown",
   "metadata": {},
   "source": [
    "### ブロードキャスト<a name=\"numpy_broadcast\"></a>"
   ]
  },
  {
   "cell_type": "code",
   "execution_count": null,
   "metadata": {
    "collapsed": false
   },
   "outputs": [],
   "source": [
    "# ベクトルとスカラ\n",
    "np.arange(5) + 2 # [0, 1, 2, 3, 4] + 2"
   ]
  },
  {
   "cell_type": "code",
   "execution_count": null,
   "metadata": {
    "collapsed": false
   },
   "outputs": [],
   "source": [
    "# 行列とベクトル\n",
    "c = np.arange(6).reshape((2, 3))\n",
    "c"
   ]
  },
  {
   "cell_type": "code",
   "execution_count": null,
   "metadata": {
    "collapsed": false
   },
   "outputs": [],
   "source": [
    "d = np.arange(3) + 4\n",
    "d"
   ]
  },
  {
   "cell_type": "code",
   "execution_count": null,
   "metadata": {
    "collapsed": false
   },
   "outputs": [],
   "source": [
    "c + d"
   ]
  },
  {
   "cell_type": "code",
   "execution_count": null,
   "metadata": {
    "collapsed": false
   },
   "outputs": [],
   "source": [
    "# 行ベクトルと列ベクトル\n",
    "e = np.arange(5)\n",
    "e"
   ]
  },
  {
   "cell_type": "code",
   "execution_count": null,
   "metadata": {
    "collapsed": false
   },
   "outputs": [],
   "source": [
    "f = np.linspace(10, 12, 3).reshape((-1, 1))\n",
    "f"
   ]
  },
  {
   "cell_type": "code",
   "execution_count": null,
   "metadata": {
    "collapsed": false
   },
   "outputs": [],
   "source": [
    "e + f"
   ]
  },
  {
   "cell_type": "markdown",
   "metadata": {},
   "source": [
    "### 値の検索と置換<a name=\"numpy_search\"></a>\n",
    "\n",
    "インデックスに条件文を指定すると、あてはまる値を取得できる。"
   ]
  },
  {
   "cell_type": "code",
   "execution_count": null,
   "metadata": {
    "collapsed": false
   },
   "outputs": [],
   "source": [
    "g = np.linspace(1, 10, 5)\n",
    "g > 5"
   ]
  },
  {
   "cell_type": "code",
   "execution_count": null,
   "metadata": {
    "collapsed": false
   },
   "outputs": [],
   "source": [
    "g[g > 5]"
   ]
  },
  {
   "cell_type": "markdown",
   "metadata": {},
   "source": [
    "条件に一致する要素に別の値を代入。"
   ]
  },
  {
   "cell_type": "code",
   "execution_count": null,
   "metadata": {
    "collapsed": false
   },
   "outputs": [],
   "source": [
    "g[g < 5] = 0\n",
    "g"
   ]
  },
  {
   "cell_type": "markdown",
   "metadata": {},
   "source": [
    "条件に一致するものとしないものに同時に値を代入。"
   ]
  },
  {
   "cell_type": "code",
   "execution_count": null,
   "metadata": {
    "collapsed": false
   },
   "outputs": [],
   "source": [
    "np.where(g < 5, 0, 1)"
   ]
  },
  {
   "cell_type": "markdown",
   "metadata": {},
   "source": [
    "## matplotlib<a name=\"matplotlib\"></a>\n",
    "\n",
    "### matplotlibとは<a name=\"matplotlib_description\"></a>\n",
    "\n",
    "グラフ描画のためのライブラリ。\n",
    "\n",
    "### インポート<a name=\"matplotlib_import\"></a>\n",
    "\n",
    "通常はpyplotをpltという名前でインポートする。"
   ]
  },
  {
   "cell_type": "code",
   "execution_count": null,
   "metadata": {
    "collapsed": true
   },
   "outputs": [],
   "source": [
    "import matplotlib.pyplot as plt"
   ]
  },
  {
   "cell_type": "markdown",
   "metadata": {},
   "source": [
    "### 折れ線グラフ<a name=\"matplotlib_plot\"></a>"
   ]
  },
  {
   "cell_type": "code",
   "execution_count": null,
   "metadata": {
    "collapsed": false
   },
   "outputs": [],
   "source": [
    "x = np.arange(0, 5, 0.5)\n",
    "y = np.sin(x)\n",
    "plt.plot(x, y)\n",
    "plt.show()"
   ]
  },
  {
   "cell_type": "markdown",
   "metadata": {},
   "source": [
    "### 散布図<a name=\"matplotlib_scatter\"></a>"
   ]
  },
  {
   "cell_type": "code",
   "execution_count": null,
   "metadata": {
    "collapsed": false
   },
   "outputs": [],
   "source": [
    "x = np.linspace(-1, 1, 20)\n",
    "y = np.sqrt(1 - x ** 2)\n",
    "plt.scatter(x ,y)\n",
    "plt.scatter(x, -y, marker='x')\n",
    "plt.show()"
   ]
  },
  {
   "cell_type": "markdown",
   "metadata": {},
   "source": [
    "### ヒストグラム<a name=\"matplotlib_hist\"></a>"
   ]
  },
  {
   "cell_type": "code",
   "execution_count": null,
   "metadata": {
    "collapsed": false
   },
   "outputs": [],
   "source": [
    "np.random.seed(0)\n",
    "x = np.random.normal(size=1000)\n",
    "plt.hist(x)\n",
    "plt.show()"
   ]
  },
  {
   "cell_type": "markdown",
   "metadata": {},
   "source": [
    "### グラフのカスタマイズ<a name=\"matplotlib_customize\"></a>\n",
    "\n",
    "軸のラベル指定"
   ]
  },
  {
   "cell_type": "code",
   "execution_count": null,
   "metadata": {
    "collapsed": false
   },
   "outputs": [],
   "source": [
    "x = np.arange(0, 5, 0.1)\n",
    "y = np.sin(x)\n",
    "plt.xlabel('Label of x axis')\n",
    "plt.ylabel('Label of y axis')\n",
    "plt.plot(x, y)\n",
    "plt.show()"
   ]
  },
  {
   "cell_type": "markdown",
   "metadata": {},
   "source": [
    "凡例表示"
   ]
  },
  {
   "cell_type": "code",
   "execution_count": null,
   "metadata": {
    "collapsed": false
   },
   "outputs": [],
   "source": [
    "plt.plot(x, np.sin(x), label='sine curve')\n",
    "plt.plot(x, np.cos(x), label='cosine curve')\n",
    "plt.legend()\n",
    "plt.show()"
   ]
  },
  {
   "cell_type": "markdown",
   "metadata": {},
   "source": [
    "タイトル表示"
   ]
  },
  {
   "cell_type": "code",
   "execution_count": null,
   "metadata": {
    "collapsed": false
   },
   "outputs": [],
   "source": [
    "plt.title('Example')\n",
    "plt.plot(x, np.sin(x))\n",
    "plt.show()"
   ]
  },
  {
   "cell_type": "markdown",
   "metadata": {},
   "source": [
    "## pandas<a name=\"pandas\"></a>\n",
    "\n",
    "### pandasとは<a name=\"pandas_description\"></a>\n",
    "\n",
    "データ分析のためのライブラリ。データフレームというスプレッドシートのような枠組みを提供してくれる。\n",
    "\n",
    "### インポート<a name=\"pandas_import\"></a>\n",
    "\n",
    "慣例としてpdという名前をつける。"
   ]
  },
  {
   "cell_type": "code",
   "execution_count": null,
   "metadata": {
    "collapsed": false
   },
   "outputs": [],
   "source": [
    "import pandas as pd"
   ]
  },
  {
   "cell_type": "markdown",
   "metadata": {},
   "source": [
    "### データ読み込み<a name=\"pandas_read\"></a>\n",
    "\n",
    "csvデータを読み込み後、確認のため最後5行を出力。"
   ]
  },
  {
   "cell_type": "code",
   "execution_count": null,
   "metadata": {
    "collapsed": false
   },
   "outputs": [],
   "source": [
    "df = pd.read_csv('https://archive.ics.uci.edu/ml/machine-learning-databases/iris/iris.data', header=None)\n",
    "df.tail()"
   ]
  },
  {
   "cell_type": "markdown",
   "metadata": {},
   "source": [
    "列ラベルを設定"
   ]
  },
  {
   "cell_type": "code",
   "execution_count": null,
   "metadata": {
    "collapsed": false
   },
   "outputs": [],
   "source": [
    "df.columns = ['sepal length (cm)',  'sepal width (cm)',  'petal length (cm)',  'petal width (cm)', 'class']\n",
    "df.head()"
   ]
  },
  {
   "cell_type": "markdown",
   "metadata": {},
   "source": [
    "データの概要を表示"
   ]
  },
  {
   "cell_type": "code",
   "execution_count": null,
   "metadata": {
    "collapsed": false
   },
   "outputs": [],
   "source": [
    "df.describe()"
   ]
  },
  {
   "cell_type": "markdown",
   "metadata": {},
   "source": [
    "インデックスを指定して値を抽出。"
   ]
  },
  {
   "cell_type": "code",
   "execution_count": null,
   "metadata": {
    "collapsed": false
   },
   "outputs": [],
   "source": [
    "df.iloc[-5:, [0, 2]]"
   ]
  },
  {
   "cell_type": "code",
   "execution_count": null,
   "metadata": {
    "collapsed": false
   },
   "outputs": [],
   "source": [
    "df.iloc[-5:, [0, 2]].values"
   ]
  },
  {
   "cell_type": "markdown",
   "metadata": {},
   "source": [
    "カラム名を指定して値を抽出。"
   ]
  },
  {
   "cell_type": "code",
   "execution_count": null,
   "metadata": {
    "collapsed": false
   },
   "outputs": [],
   "source": [
    "df.loc[145:, 'sepal length (cm)':'sepal width (cm)']"
   ]
  }
 ],
 "metadata": {
  "anaconda-cloud": {},
  "kernelspec": {
   "display_name": "Python [Root]",
   "language": "python",
   "name": "Python [Root]"
  },
  "language_info": {
   "codemirror_mode": {
    "name": "ipython",
    "version": 3
   },
   "file_extension": ".py",
   "mimetype": "text/x-python",
   "name": "python",
   "nbconvert_exporter": "python",
   "pygments_lexer": "ipython3",
   "version": "3.5.2"
  }
 },
 "nbformat": 4,
 "nbformat_minor": 0
}
