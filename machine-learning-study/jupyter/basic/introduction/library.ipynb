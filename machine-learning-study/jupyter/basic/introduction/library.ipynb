{
 "cells": [
  {
   "cell_type": "markdown",
   "metadata": {},
   "source": [
    "# 機械学習でよく利用するPythonライブラリ\n",
    "\n",
    "## パッケージ<a name=\"package\"></a>\n",
    "\n",
    "- [Anaconda](https://www.continuum.io/downloads) - データサイエンスでよく利用するライブラリを集めたパッケージ管理システム\n",
    "\n",
    "## 数値計算<a name=\"calculation\"></a>\n",
    "\n",
    "- [NumPy](http://www.numpy.org/) - 線形代数(行列)の高速な計算\n",
    "- [SciPy](https://www.scipy.org/scipylib/index.html) - 科学技術計算\n",
    "\n",
    "## 機械学習<a name=\"machine_learning\"></a>\n",
    "\n",
    "- [scikit-learn](http://scikit-learn.org/stable/) - よく利用される機械学習アルゴリズムを統一的なインターフェースで利用可能\n",
    "\n",
    "## グラフ描画<a name=\"graph\"></a>\n",
    "\n",
    "- [Matplotlib](http://matplotlib.org/) - グラフ描画\n",
    "- [Seaborn](http://seaborn.pydata.org/) - 綺麗なグラフを描くためのMatplotlibラッパー\n",
    "- [Bokeh](http://bokeh.pydata.org/en/latest/) - ブラウザ上でインタラクティブなグラフ描画\n",
    "\n",
    "## データフレーム<a name=\"data_frame\"></a>\n",
    "\n",
    "- [pandas](http://pandas.pydata.org/) - データフレーム\n",
    "\n",
    "## ドキュメント作成<a name=\"document\"></a>\n",
    "\n",
    "- [Jupyter Notebook](http://jupyter.org/) - ブラウザベースのコード実行環境\n",
    "\n",
    "## 画像<a name=\"vision\"></a>\n",
    "\n",
    "- [OpenCV](http://opencv.org/) - 画像処理\n",
    "\n",
    "## 自然言語<a name=\"natural_language\"></a>\n",
    "\n",
    "- [NLTK](http://www.nltk.org/) - 自然言語処理\n",
    "- [MeCab](http://taku910.github.io/mecab/) - 形態素解析\n",
    "- [JUMAN++](http://nlp.ist.i.kyoto-u.ac.jp/index.php?JUMAN++) - 形態素解析\n",
    "- [gensim](https://radimrehurek.com/gensim/) - トピックモデル\n",
    "\n",
    "## ディープラーニング<a name=\"deep_learning\"></a>\n",
    "\n",
    "- [TensorFlow](https://www.tensorflow.org/) - Googleが開発\n",
    "- [Keras](https://keras.io/ja/) - TensorFlowとTheanoのラッパー\n",
    "- [Chainer](http://chainer.org/) - 日本のPreferred Networksが開発\n",
    "- [Caffe](http://caffe.berkeleyvision.org/) - Berkeley Vision and Learning Centerが開発\n",
    "- [Theano](http://deeplearning.net/software/theano/) - モントリオール大学が開発\n",
    "- [Cognitive Toolkit](https://github.com/Microsoft/CNTK/wiki) - Microsoftが開発\n",
    "- [MXNet](http://mxnet.io/) - Amazonがサポート\n",
    "- [PyTorch](http://pytorch.org/) - facebookが開発\n",
    "\n",
    "## 分散処理<a name=\"distribution\"></a>\n",
    "\n",
    "- [PySpark](http://spark.apache.org/docs/latest/api/python/) - 分散処理用ライブラリSpark(Scala)のPython API"
   ]
  }
 ],
 "metadata": {
  "kernelspec": {
   "display_name": "Python [Root]",
   "language": "python",
   "name": "Python [Root]"
  },
  "language_info": {
   "codemirror_mode": {
    "name": "ipython",
    "version": 3
   },
   "file_extension": ".py",
   "mimetype": "text/x-python",
   "name": "python",
   "nbconvert_exporter": "python",
   "pygments_lexer": "ipython3",
   "version": "3.5.2"
  }
 },
 "nbformat": 4,
 "nbformat_minor": 0
}
