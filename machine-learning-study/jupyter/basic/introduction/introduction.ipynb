{
 "cells": [
  {
   "cell_type": "markdown",
   "metadata": {},
   "source": [
    "# はじめに\n",
    "\n",
    "## 対象・目的\n",
    "\n",
    "- プログラミング経験があり、Pythonの基本的な文法は理解している人が対象\n",
    "- 数学は高校卒業程度が前提\n",
    "- 機械学習の基本的な手法を学ぶ\n",
    "- 数式を用いた厳密な理解よりは、実際に動かしてみたり、可視化してみたりして概要をつかむことを重視(以下のように抽象化した場合のプロセス自動化)\n",
    " - 統計解析\n",
    "   - データから次の施策に役立つ情報を得る\n",
    "   - 人間が結論に至った理由を理解できることを重視\n",
    " - プロセス自動化\n",
    "   - 人が行なっていた作業を代替する\n",
    "   - 精度を重視\n",
    "\n",
    "## 機械学習とは\n",
    "\n",
    "- 多くのデータからパターンを抽出して、将来の事象を予想したり、データの構造を理解したりする技術\n",
    "- データからパターンを抽出するためのアルゴリズムは人間が与えるが、そこからパターンを抽出する作業はコンピュータが行う\n",
    "\n",
    "## 機械学習利用の具体例\n",
    "\n",
    "機械学習の成果を利用したWeb APIを紹介する\n",
    "\n",
    "Web APIを紹介するのは\n",
    "\n",
    "- すぐに試せる\n",
    "- 自分で開発するのに比べて圧倒的に安価に始められる\n",
    "- 実例を知っていると、どんなことができそうかイメージしやすい\n",
    "\n",
    "という理由\n",
    "\n",
    "- [Google Cloud Machine Learning](https://cloud.google.com/products/machine-learning/)\n",
    "- [Microsoft Cognitive Services](https://www.microsoft.com/cognitive-services)\n",
    "- [IBM Watson](http://www.ibm.com/watson/developercloud/)\n",
    "- [Amazon AI](https://aws.amazon.com/jp/amazon-ai/)"
   ]
  }
 ],
 "metadata": {
  "kernelspec": {
   "display_name": "Python 3",
   "language": "python",
   "name": "python3"
  },
  "language_info": {
   "codemirror_mode": {
    "name": "ipython",
    "version": 3
   },
   "file_extension": ".py",
   "mimetype": "text/x-python",
   "name": "python",
   "nbconvert_exporter": "python",
   "pygments_lexer": "ipython3",
   "version": "3.5.2"
  }
 },
 "nbformat": 4,
 "nbformat_minor": 0
}
