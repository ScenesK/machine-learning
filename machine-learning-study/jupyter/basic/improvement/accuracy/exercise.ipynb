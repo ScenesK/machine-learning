{
 "cells": [
  {
   "cell_type": "markdown",
   "metadata": {},
   "source": [
    "# 演習問題5\n",
    "\n",
    "1. scikit-learnに用意されている分類・回帰の[データセット](http://scikit-learn.org/stable/modules/classes.html#loaders)を選ぶ\n",
    "1. 選んだデータに適した[モデル](http://scikit-learn.org/stable/supervised_learning.html#supervised-learning)を選ぶ\n",
    "1. トレーニングデータとテストデータに分割する\n",
    "1. [GridSearchCV](http://scikit-learn.org/stable/modules/generated/sklearn.model_selection.GridSearchCV.html#sklearn.model_selection.GridSearchCV)で最適なハイパーパラメーターを求めてみる\n",
    "1. [RandomizedSearchCV](http://scikit-learn.org/stable/modules/generated/sklearn.model_selection.RandomizedSearchCV.html#sklearn.model_selection.RandomizedSearchCV)で最適なハイパーパラメーターを求め、GridSearchCVの結果や実行時間と比較してみる\n",
    "1. テストデータで汎化能力を確認する"
   ]
  }
 ],
 "metadata": {
  "anaconda-cloud": {},
  "kernelspec": {
   "display_name": "Python [Root]",
   "language": "python",
   "name": "Python [Root]"
  },
  "language_info": {
   "codemirror_mode": {
    "name": "ipython",
    "version": 3
   },
   "file_extension": ".py",
   "mimetype": "text/x-python",
   "name": "python",
   "nbconvert_exporter": "python",
   "pygments_lexer": "ipython3",
   "version": "3.5.2"
  }
 },
 "nbformat": 4,
 "nbformat_minor": 0
}
