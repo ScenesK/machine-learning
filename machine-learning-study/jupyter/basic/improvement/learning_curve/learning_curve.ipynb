{
 "cells": [
  {
   "cell_type": "markdown",
   "metadata": {},
   "source": [
    "# 学習曲線\n",
    "\n",
    "## 精度・汎化性能を向上させる手段<a name=\"method\"></a>\n",
    "\n",
    "- 訓練データを増やす\n",
    "- 正則化項を強める\n",
    "- パラメータ数を減らしてモデルを単純化する\n",
    "\n",
    "## 選択基準<a name=\"criteria\"></a>\n",
    "\n",
    "学習曲線を表示すると、どの手段を選択すれば良いかの指針になる。"
   ]
  },
  {
   "cell_type": "code",
   "execution_count": null,
   "metadata": {
    "collapsed": false
   },
   "outputs": [],
   "source": [
    "import numpy as np\n",
    "import matplotlib.pyplot as plt\n",
    "\n",
    "titles = ['High bias', 'High variance', 'Balanced']\n",
    "labels = ['Expected', 'Training', 'Validation']\n",
    "\n",
    "x_min, x_max = 1, 10\n",
    "x = np.linspace(x_min, x_max, 50)\n",
    "expected = .8\n",
    "train = np.array([\n",
    "    [\n",
    "        np.exp(- x * .9) * 1.5 + expected / 2 + .01,\n",
    "        np.exp(- x * .3) * .25 + expected + .01,\n",
    "        np.exp(- x * .6) * .35 + expected + .01\n",
    "    ], [\n",
    "        - np.exp(- x * .6) * 1.1 + .59,\n",
    "        - np.exp(- x * .6) * .35 + .19,\n",
    "        - np.exp(- x * .6) * .35 + .19\n",
    "    ]\n",
    "])\n",
    "validation = np.array([\n",
    "    [\n",
    "        - np.exp(- x * .9) + expected / 2 - .01,\n",
    "        - np.exp(- x * .2) * .95 + expected - .01,\n",
    "        - np.exp(- x * .6) * 1.5 + expected - .01\n",
    "    ], [\n",
    "        np.exp(- x * .6) * .75 + .61,\n",
    "        np.exp(- x * .2) * .95+ .21,\n",
    "        np.exp(- x * .6) * 1.45 + .21\n",
    "    ]\n",
    "])\n",
    "\n",
    "fig, axes = plt.subplots(2, 3, figsize=(12, 8))\n",
    "\n",
    "for row, cols in enumerate(axes):\n",
    "    for col, ax in enumerate(cols):\n",
    "        ax.plot(x, train[row, col], color='g', label=labels[1])\n",
    "        ax.plot(x, validation[row, col], color='r', label=labels[2])\n",
    "\n",
    "        ax.set_xlim(x_min, x_max)\n",
    "        ax.set_ylim(0, 1)\n",
    "        ax.set_xticklabels(())\n",
    "\n",
    "        if row == 0:\n",
    "            ax.set_title(titles[col])\n",
    "            ax.plot([x_min, x_max], [expected, expected], color='b', label=labels[0])\n",
    "            \n",
    "            if col == 0:\n",
    "                ax.legend()\n",
    "                ax.set_ylabel('Accuracy')\n",
    "        \n",
    "        else:\n",
    "            ax.set_xlabel('Training sample')\n",
    "            ax.set_xticklabels([1] + [''] * 8 + ['n'])\n",
    "            \n",
    "            if col == 0:\n",
    "                ax.set_ylabel('Loss')\n",
    "        \n",
    "        if row + col > 0:\n",
    "            ax.set_yticklabels(())\n",
    "\n",
    "plt.show()"
   ]
  },
  {
   "cell_type": "markdown",
   "metadata": {},
   "source": [
    "- 訓練データでの精度が求める水準に達していない・損失が十分に低下しない\n",
    " - = 未学習・高バイアス\n",
    "   - → パラメータの数を増やす（特徴を追加）・正則化を弱める\n",
    "- 訓練データでは求める精度を達成している・損失は十分に低下している\n",
    " - バリデーションデータと訓練データで精度・損失が大きく乖離している\n",
    "   - = 過学習・高バリアンス\n",
    "     - → さらにデータを集める・正則化を強める(正則化の適用できないモデルでは次元削減などで特徴を減らす)\n",
    " - バリデーションデータと訓練データの精度・損失が近い\n",
    "   - = 最適なモデル"
   ]
  },
  {
   "cell_type": "markdown",
   "metadata": {},
   "source": [
    "### 学習曲線の描画<a name=\"learning_curve\"></a>\n",
    "\n",
    "#### データの準備<a name=\"data\"></a>"
   ]
  },
  {
   "cell_type": "code",
   "execution_count": null,
   "metadata": {
    "collapsed": false
   },
   "outputs": [],
   "source": [
    "from sklearn.datasets import load_digits\n",
    "from sklearn.model_selection import train_test_split\n",
    "\n",
    "loader = load_digits()\n",
    "X, y = loader.data, loader.target\n",
    "X_train, X_test, y_train, y_test = train_test_split(X, y, test_size=.2, random_state=0)"
   ]
  },
  {
   "cell_type": "markdown",
   "metadata": {},
   "source": [
    "#### 学習曲線表示<a name=\"visualization\"></a>"
   ]
  },
  {
   "cell_type": "code",
   "execution_count": null,
   "metadata": {
    "collapsed": false
   },
   "outputs": [],
   "source": [
    "from sklearn.model_selection import learning_curve\n",
    "from sklearn.linear_model import LogisticRegression\n",
    "\n",
    "estimator = LogisticRegression(random_state=0, n_jobs=-1)\n",
    "train_sizes, train_scores, test_scores = learning_curve(estimator=estimator, X=X_train, y=y_train,\n",
    "                                                        train_sizes=np.linspace(.1, 1., 50), cv=10, n_jobs=-1)\n",
    "train_score_mean = train_scores.mean(axis=1)\n",
    "test_score_mean = test_scores.mean(axis=1)\n",
    "\n",
    "plt.plot(train_sizes, train_score_mean, color='g', label='Train')\n",
    "plt.plot(train_sizes, test_score_mean, color='r', label='Validation')\n",
    "\n",
    "plt.legend(loc='lower right')\n",
    "plt.xlabel('Train sample')\n",
    "plt.ylabel('Accuracy')\n",
    "plt.xlim(train_sizes.min(), train_sizes.max())\n",
    "plt.ylim(0.9, 1.01)\n",
    "\n",
    "plt.show()"
   ]
  }
 ],
 "metadata": {
  "anaconda-cloud": {},
  "kernelspec": {
   "display_name": "Python [Root]",
   "language": "python",
   "name": "Python [Root]"
  },
  "language_info": {
   "codemirror_mode": {
    "name": "ipython",
    "version": 3
   },
   "file_extension": ".py",
   "mimetype": "text/x-python",
   "name": "python",
   "nbconvert_exporter": "python",
   "pygments_lexer": "ipython3",
   "version": "3.5.2"
  }
 },
 "nbformat": 4,
 "nbformat_minor": 2
}
