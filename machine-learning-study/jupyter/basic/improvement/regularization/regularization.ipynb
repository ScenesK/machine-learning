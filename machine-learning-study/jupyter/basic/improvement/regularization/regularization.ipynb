{
 "cells": [
  {
   "cell_type": "markdown",
   "metadata": {},
   "source": [
    "# 正則化\n",
    "\n",
    "\n",
    "\n",
    "## 正則化(regularization)とは<a name=\"description\"></a>\n",
    "\n",
    "コスト関数に極端な重みへのペナルティ項(正則化項)を加えて、過学習を抑制する手法のこと。\n",
    "\n",
    "正則化をうまく機能させるためには特徴のスケーリングが必要になる。"
   ]
  }
 ],
 "metadata": {
  "kernelspec": {
   "display_name": "Python [Root]",
   "language": "python",
   "name": "Python [Root]"
  },
  "language_info": {
   "codemirror_mode": {
    "name": "ipython",
    "version": 3
   },
   "file_extension": ".py",
   "mimetype": "text/x-python",
   "name": "python",
   "nbconvert_exporter": "python",
   "pygments_lexer": "ipython3",
   "version": "3.5.2"
  }
 },
 "nbformat": 4,
 "nbformat_minor": 2
}
