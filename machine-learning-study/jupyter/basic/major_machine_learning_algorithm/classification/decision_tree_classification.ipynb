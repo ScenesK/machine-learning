{
 "cells": [
  {
   "cell_type": "markdown",
   "metadata": {},
   "source": [
    "# 決定木(Decision Tree)\n",
    "\n",
    "## 決定木とは\n",
    "\n",
    "- IF文の連続で結果を予測するモデル\n",
    "- 精度は低いが、結果に対する説明力(理由の理解しやすさ)が高い\n",
    "- Random ForestやDecision Jungleなどの樹木系アルゴリズムのベース\n",
    "- 元のデータを根(root)・分類の最終点を葉(leaf)・根から葉に至る途中を枝(branch)と呼ぶ\n",
    "\n",
    "## 使用例\n",
    "\n",
    "### データ準備\n",
    "\n",
    "scikit-learnに用意されているデータを使用する。"
   ]
  },
  {
   "cell_type": "code",
   "execution_count": null,
   "metadata": {
    "collapsed": false
   },
   "outputs": [],
   "source": [
    "import numpy as np\n",
    "from sklearn.datasets import load_iris\n",
    "import pandas as pd\n",
    "\n",
    "iris = load_iris()\n",
    "X, y = iris.data, iris.target\n",
    "\n",
    "data = np.concatenate([X, y[:, np.newaxis]], axis=1)\n",
    "columns = iris.feature_names + ['target']\n",
    "df = pd.DataFrame(data=data, columns=columns)\n",
    "df.tail()"
   ]
  },
  {
   "cell_type": "markdown",
   "metadata": {},
   "source": [
    "### 学習"
   ]
  },
  {
   "cell_type": "code",
   "execution_count": null,
   "metadata": {
    "collapsed": false
   },
   "outputs": [],
   "source": [
    "from sklearn.tree import DecisionTreeClassifier\n",
    "\n",
    "clf = DecisionTreeClassifier()\n",
    "clf.fit(X, y)"
   ]
  },
  {
   "cell_type": "markdown",
   "metadata": {},
   "source": [
    "### 結果の可視化"
   ]
  },
  {
   "cell_type": "code",
   "execution_count": null,
   "metadata": {
    "collapsed": false
   },
   "outputs": [],
   "source": [
    "from sklearn import tree\n",
    "import pydotplus \n",
    "from IPython.display import Image\n",
    "\n",
    "dot_data = tree.export_graphviz(\n",
    "    clf, out_file=None, feature_names=iris.feature_names,\n",
    "    class_names=iris.target_names, filled=True, rounded=True,\n",
    "    special_characters=True)\n",
    "graph = pydotplus.graph_from_dot_data(dot_data)\n",
    "Image(graph.create_png())"
   ]
  },
  {
   "cell_type": "markdown",
   "metadata": {},
   "source": [
    "## 特徴\n",
    "\n",
    "決定木は仕組み自体は単純だが、十分な深さがあれば全ての学習サンプルを完璧に分類できる高バリアンスなモデル。そのため、深さに制限を設けて枝刈り(剪定)し、過学習を防ぐ。\n",
    "\n",
    "## 仕組み\n",
    "\n",
    "得られる情報(情報利得 = information gain)が最大となる特徴・条件でデータを分割していく。得られる情報が最大となるというのは、分割された枝葉の不純度(impurity)が最も低くなること。\n",
    "\n",
    "情報利得は、親ノードの不純度と子ノードの不純度の差で定義される。つまり目的関数は以下のように定義される。( $D_p,\\ D_j$ はそれぞれ親ノード・子ノード $j$ のデータセット、$I(D)$ はデータセット $D$ の不純度を表す関数、$N_p,\\ N_j$ はそれぞれ親ノード・子ノード $j$ のサンプル数、$m$ は分割する子ノードの数)\n",
    "\n",
    "情報利得 $\\begin{eqnarray}\n",
    "    =\\ I(D_p)-\\sum_{j=1}^m\\frac{N_j}{N_p}I(D_j)\\nonumber\n",
    "\\end{eqnarray}$\n",
    "\n",
    "決定木で不純度を表す関数 $I$ に使われる代表的なものにエントロピーとジニ不純度があるが、どちらも結果に大きな違いはない。エントロピーについては[別の項](entropy.ipynb)で説明。"
   ]
  }
 ],
 "metadata": {
  "kernelspec": {
   "display_name": "Python 3",
   "language": "python",
   "name": "python3"
  },
  "language_info": {
   "codemirror_mode": {
    "name": "ipython",
    "version": 3
   },
   "file_extension": ".py",
   "mimetype": "text/x-python",
   "name": "python",
   "nbconvert_exporter": "python",
   "pygments_lexer": "ipython3",
   "version": "3.5.2"
  }
 },
 "nbformat": 4,
 "nbformat_minor": 0
}
