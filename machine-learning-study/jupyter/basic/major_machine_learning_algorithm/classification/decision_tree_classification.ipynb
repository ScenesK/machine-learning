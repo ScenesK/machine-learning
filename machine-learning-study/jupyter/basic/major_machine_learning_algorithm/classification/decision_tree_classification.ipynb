{
 "cells": [
  {
   "cell_type": "markdown",
   "metadata": {},
   "source": [
    "# 決定木(Decision Tree)\n",
    "\n",
    "## 決定木とは<a name=\"description\"></a>\n",
    "\n",
    "- IF文の連続で結果を予測するモデル\n",
    "- 精度は低いが、結果に対する説明力(理由の理解しやすさ)が高い\n",
    "- Random ForestやDecision Jungleなどの樹木系アルゴリズムのベース\n",
    "- 元のデータを根(root)・分類の最終点を葉(leaf)・根から葉に至る途中を枝(branch)と呼ぶ\n",
    "\n",
    "## 使用例<a name=\"example\"></a>\n",
    "\n",
    "### データ準備<a name=\"data\"></a>\n",
    "\n",
    "scikit-learnに用意されているデータを使用する。"
   ]
  },
  {
   "cell_type": "code",
   "execution_count": null,
   "metadata": {
    "collapsed": false
   },
   "outputs": [],
   "source": [
    "import numpy as np\n",
    "from sklearn.datasets import load_iris\n",
    "import pandas as pd\n",
    "\n",
    "iris = load_iris()\n",
    "X, y = iris.data, iris.target\n",
    "\n",
    "data = np.concatenate([X, y[:, np.newaxis]], axis=1)\n",
    "columns = iris.feature_names + ['target']\n",
    "df = pd.DataFrame(data=data, columns=columns)\n",
    "df.tail()"
   ]
  },
  {
   "cell_type": "markdown",
   "metadata": {},
   "source": [
    "### 学習<a name=\"training\"></a>"
   ]
  },
  {
   "cell_type": "code",
   "execution_count": null,
   "metadata": {
    "collapsed": false
   },
   "outputs": [],
   "source": [
    "from sklearn.tree import DecisionTreeClassifier\n",
    "\n",
    "clf = DecisionTreeClassifier()\n",
    "clf.fit(X, y)"
   ]
  },
  {
   "cell_type": "markdown",
   "metadata": {},
   "source": [
    "### 結果の可視化<a name=\"visualization\"></a>"
   ]
  },
  {
   "cell_type": "code",
   "execution_count": null,
   "metadata": {
    "collapsed": false
   },
   "outputs": [],
   "source": [
    "from sklearn import tree\n",
    "import pydotplus \n",
    "from IPython.display import Image\n",
    "\n",
    "dot_data = tree.export_graphviz(\n",
    "    clf, out_file=None, feature_names=iris.feature_names,\n",
    "    class_names=iris.target_names, filled=True, rounded=True,\n",
    "    special_characters=True)\n",
    "graph = pydotplus.graph_from_dot_data(dot_data)\n",
    "Image(graph.create_png())"
   ]
  }
 ],
 "metadata": {
  "anaconda-cloud": {},
  "kernelspec": {
   "display_name": "Python [Root]",
   "language": "python",
   "name": "Python [Root]"
  },
  "language_info": {
   "codemirror_mode": {
    "name": "ipython",
    "version": 3
   },
   "file_extension": ".py",
   "mimetype": "text/x-python",
   "name": "python",
   "nbconvert_exporter": "python",
   "pygments_lexer": "ipython3",
   "version": "3.5.2"
  }
 },
 "nbformat": 4,
 "nbformat_minor": 0
}
