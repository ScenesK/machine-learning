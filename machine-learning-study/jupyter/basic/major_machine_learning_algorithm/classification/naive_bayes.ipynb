{
 "cells": [
  {
   "cell_type": "markdown",
   "metadata": {
    "collapsed": true
   },
   "source": [
    "# 単純ベイズ(Naive Bayes)\n",
    "\n",
    "## 単純ベイズとは<a name=\"description\"></a>\n",
    "\n",
    "- 特徴の分布から、クラスを推測するモデル\n",
    "- 文書分類や迷惑メールフィルタで使用される\n",
    "- 特徴の分布によっていくつかの実装がある"
   ]
  },
  {
   "cell_type": "markdown",
   "metadata": {},
   "source": [
    "## 多項分布(Multinomial Naive Bayes)<a name=\"multinomial\"></a>\n",
    "\n",
    "- 特徴が多項分布に従う場合に用いる\n",
    "- 文書分類や迷惑メールフィルタに用いる場合、その文書中の各単語の出現頻度が特徴とされることが多いが、TF-IDFのような指標でも良い\n",
    "\n",
    "### 使用例<a name=\"multinomial_example\"></a>\n",
    "\n",
    "#### データ準備<a name=\"multinomial_data\"></a>"
   ]
  },
  {
   "cell_type": "code",
   "execution_count": null,
   "metadata": {
    "collapsed": false
   },
   "outputs": [],
   "source": [
    "from sklearn.datasets import fetch_20newsgroups\n",
    "\n",
    "remove = ('headers', 'footers', 'quotes')\n",
    "\n",
    "data_train = fetch_20newsgroups(subset='train', shuffle=True, random_state=0, remove=remove)\n",
    "data_test = fetch_20newsgroups(subset='test', shuffle=True, random_state=0, remove=remove)\n",
    "\n",
    "print(data_train.data[0])"
   ]
  },
  {
   "cell_type": "code",
   "execution_count": null,
   "metadata": {
    "collapsed": false
   },
   "outputs": [],
   "source": [
    "from sklearn.feature_extraction.text import CountVectorizer\n",
    "\n",
    "vectorizer = CountVectorizer(stop_words='english', max_features=2 ** 16)\n",
    "X_train = vectorizer.fit_transform(data_train.data)\n",
    "X_test = vectorizer.transform(data_test.data)\n",
    "y_train = data_train.target\n",
    "y_test = data_test.target\n",
    "\n",
    "X_train.shape"
   ]
  },
  {
   "cell_type": "code",
   "execution_count": null,
   "metadata": {
    "collapsed": false
   },
   "outputs": [],
   "source": [
    "print(X_train[0])"
   ]
  },
  {
   "cell_type": "markdown",
   "metadata": {},
   "source": [
    "#### 学習<a name=\"multinomial_training\"></a>"
   ]
  },
  {
   "cell_type": "code",
   "execution_count": null,
   "metadata": {
    "collapsed": false
   },
   "outputs": [],
   "source": [
    "from sklearn.naive_bayes import MultinomialNB\n",
    "\n",
    "multinomial_clf = MultinomialNB()\n",
    "multinomial_clf.fit(X_train, y_train)"
   ]
  },
  {
   "cell_type": "markdown",
   "metadata": {},
   "source": [
    "#### パフォーマンス確認<a name=\"multinomial_test\"></a>"
   ]
  },
  {
   "cell_type": "code",
   "execution_count": null,
   "metadata": {
    "collapsed": false
   },
   "outputs": [],
   "source": [
    "from sklearn.metrics import accuracy_score\n",
    "\n",
    "pred = multinomial_clf.predict(X_test)\n",
    "print('accuracy: {acc:.3f}'.format(acc=accuracy_score(y_test, pred)))"
   ]
  },
  {
   "cell_type": "markdown",
   "metadata": {},
   "source": [
    "## ベルヌーイ分布(Bernoulli Naive Bayes)<a name=\"bernoulli\"></a>\n",
    "\n",
    "特徴が2値・真偽値の場合に用いる\n",
    "\n",
    "### 使用例<a name=\"bernoulli_example\"></a>\n",
    "\n",
    "#### データ準備<a name=\"bernoulli_data\"></a>"
   ]
  },
  {
   "cell_type": "code",
   "execution_count": null,
   "metadata": {
    "collapsed": false
   },
   "outputs": [],
   "source": [
    "vectorizer = CountVectorizer(stop_words='english', max_features=2 ** 16, binary=True)\n",
    "X_train = vectorizer.fit_transform(data_train.data)\n",
    "X_test = vectorizer.transform(data_test.data)\n",
    "y_train = data_train.target\n",
    "y_test = data_test.target\n",
    "\n",
    "X_train.shape"
   ]
  },
  {
   "cell_type": "code",
   "execution_count": null,
   "metadata": {
    "collapsed": false
   },
   "outputs": [],
   "source": [
    "print(X_train[0])"
   ]
  },
  {
   "cell_type": "markdown",
   "metadata": {},
   "source": [
    "#### 学習<a name=\"bernoulli_training\"></a>"
   ]
  },
  {
   "cell_type": "code",
   "execution_count": null,
   "metadata": {
    "collapsed": false
   },
   "outputs": [],
   "source": [
    "from sklearn.naive_bayes import BernoulliNB\n",
    "\n",
    "bernoulli_clf = BernoulliNB()\n",
    "bernoulli_clf.fit(X_train, y_train)"
   ]
  },
  {
   "cell_type": "markdown",
   "metadata": {},
   "source": [
    "#### パフォーマンス確認<a name=\"bernoulli_test\"></a>"
   ]
  },
  {
   "cell_type": "code",
   "execution_count": null,
   "metadata": {
    "collapsed": false
   },
   "outputs": [],
   "source": [
    "pred = bernoulli_clf.predict(X_test)\n",
    "print('accuracy: {acc:.3f}'.format(acc=accuracy_score(y_test, pred)))"
   ]
  },
  {
   "cell_type": "markdown",
   "metadata": {},
   "source": [
    "## 正規分布(Gaussian Naive Bayes)<a name=\"gaussian\"></a>\n",
    "\n",
    "上記の他にも特徴が正規分布に従う連続値をとる場合に用いるGaussianNBがあるが省略。"
   ]
  }
 ],
 "metadata": {
  "anaconda-cloud": {},
  "kernelspec": {
   "display_name": "Python [Root]",
   "language": "python",
   "name": "Python [Root]"
  },
  "language_info": {
   "codemirror_mode": {
    "name": "ipython",
    "version": 3
   },
   "file_extension": ".py",
   "mimetype": "text/x-python",
   "name": "python",
   "nbconvert_exporter": "python",
   "pygments_lexer": "ipython3",
   "version": "3.5.2"
  }
 },
 "nbformat": 4,
 "nbformat_minor": 0
}
