{
 "cells": [
  {
   "cell_type": "markdown",
   "metadata": {},
   "source": [
    "# Mean Shift\n",
    "\n",
    "## Mean Shiftとは<a name=\"description\"></a>\n",
    "\n",
    "- 特徴空間で、指定した距離内の密度が最大化するようにクラスタ数を求める\n",
    "\n",
    "## 使用方法<a name=\"example\"></a>\n",
    "\n",
    "### データ準備<a name=\"data\"></a>"
   ]
  },
  {
   "cell_type": "code",
   "execution_count": null,
   "metadata": {
    "collapsed": false
   },
   "outputs": [],
   "source": [
    "from sklearn.datasets import make_blobs\n",
    "import matplotlib.pyplot as plt\n",
    "\n",
    "centers = [[1, 1], [-1, -1], [1, -1]]\n",
    "data, _ = make_blobs(n_samples=10000, centers=centers, cluster_std=0.6, random_state=0)\n",
    "\n",
    "plt.figure(figsize=(4, 4))\n",
    "\n",
    "plt.scatter(data[:, 0], data[:, 1], c='black', s=1, linewidth=0)\n",
    "\n",
    "plt.xticks(())\n",
    "plt.yticks(())\n",
    "\n",
    "plt.show()"
   ]
  },
  {
   "cell_type": "markdown",
   "metadata": {},
   "source": [
    "### 学習<a name=\"training\"></a>"
   ]
  },
  {
   "cell_type": "code",
   "execution_count": null,
   "metadata": {
    "collapsed": false
   },
   "outputs": [],
   "source": [
    "from sklearn.cluster import MeanShift, estimate_bandwidth\n",
    "\n",
    "bandwidth = estimate_bandwidth(data, quantile=0.2, n_samples=500)\n",
    "ms = MeanShift(bandwidth=bandwidth, bin_seeding=True)\n",
    "ms.fit(data)"
   ]
  },
  {
   "cell_type": "markdown",
   "metadata": {},
   "source": [
    "### 可視化<a name=\"visualization\"></a>"
   ]
  },
  {
   "cell_type": "code",
   "execution_count": null,
   "metadata": {
    "collapsed": false
   },
   "outputs": [],
   "source": [
    "import numpy as np\n",
    "from matplotlib.cm import ScalarMappable\n",
    "\n",
    "labels = ms.labels_\n",
    "cluster_centers = ms.cluster_centers_\n",
    "n_clusters = len(np.unique(labels))\n",
    "\n",
    "print('number of estimated clusters: {n}'.format(n=n_clusters))\n",
    "\n",
    "colors = ScalarMappable(cmap='gist_rainbow').to_rgba(np.arange(n_clusters))\n",
    "\n",
    "plt.figure(figsize=(4, 4))\n",
    "\n",
    "for k, color in enumerate(colors):\n",
    "    is_member = labels == k\n",
    "    cluster_center = cluster_centers[k]\n",
    "\n",
    "    plt.scatter(data[is_member, 0], data[is_member, 1], c=color, s=1, linewidth=0)\n",
    "    plt.scatter(cluster_center[0], cluster_center[1], c='black', marker='x', s=150, linewidth=3)\n",
    "\n",
    "plt.xticks(())\n",
    "plt.yticks(())\n",
    "\n",
    "plt.show()"
   ]
  }
 ],
 "metadata": {
  "kernelspec": {
   "display_name": "Python [Root]",
   "language": "python",
   "name": "Python [Root]"
  },
  "language_info": {
   "codemirror_mode": {
    "name": "ipython",
    "version": 3
   },
   "file_extension": ".py",
   "mimetype": "text/x-python",
   "name": "python",
   "nbconvert_exporter": "python",
   "pygments_lexer": "ipython3",
   "version": "3.5.2"
  }
 },
 "nbformat": 4,
 "nbformat_minor": 0
}
