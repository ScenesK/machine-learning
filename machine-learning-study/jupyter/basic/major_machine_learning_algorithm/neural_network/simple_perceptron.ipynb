{
 "cells": [
  {
   "cell_type": "markdown",
   "metadata": {},
   "source": [
    "# 単純パーセプトロン(Simple Perceptron)\n",
    "\n",
    "## 単純パーセプトロンとは<a name=\"description\"></a>\n",
    "\n",
    "- 線形回帰の後ろに活性化関数を加えたもの\n",
    "- 活性化関数は何でもいい\n",
    "\n",
    "### scikit-learnの実装<a name=\"implementation\"></a>\n",
    "\n",
    "- scikit-learnのlinear_model.Perceptronは、最適化に確率的勾配降下法を用いるロジスティック回帰(linear_model.LogisticRegressionは座標降下法や準ニュートン法などを使用)なので、厳密にはscikit-learnに単純パーセプトロンの活性化関数を自由にカスタマイズできる実装はない\n",
    "\n",
    "## 使用方法<a name=\"example\"></a>\n",
    "\n",
    "- scikit-learn, Keras, Chainer, TensorFlowそれぞれの実装を例示\n",
    "- 活性化関数にはシグモイド関数(ロジスティック関数)を使用(2クラスロジスティック回帰)\n",
    "- シグモイド関数とは、$0<p<1$ となる確率 $p$ を返す関数\n",
    "\n",
    "### データ準備<a name=\"data\"></a>"
   ]
  },
  {
   "cell_type": "code",
   "execution_count": null,
   "metadata": {
    "collapsed": false
   },
   "outputs": [],
   "source": [
    "import numpy as np\n",
    "from sklearn.datasets.samples_generator import make_blobs\n",
    "\n",
    "X, y = make_blobs(n_samples=50, centers=2, random_state=0, cluster_std=0.60)\n",
    "X, y = X.astype(np.float32), y.astype(np.int32)"
   ]
  },
  {
   "cell_type": "markdown",
   "metadata": {},
   "source": [
    "### 学習<a name=\"training\"></a>\n",
    "\n",
    "#### scikit-learn<a name=\"scikit-learn\"></a>"
   ]
  },
  {
   "cell_type": "code",
   "execution_count": null,
   "metadata": {
    "collapsed": false
   },
   "outputs": [],
   "source": [
    "from sklearn.linear_model import Perceptron\n",
    "\n",
    "sk_clf = Perceptron(n_iter=200, random_state=0)\n",
    "sk_clf.fit(X, y)"
   ]
  },
  {
   "cell_type": "markdown",
   "metadata": {},
   "source": [
    "#### Keras<a name=\"keras\"></a>"
   ]
  },
  {
   "cell_type": "code",
   "execution_count": null,
   "metadata": {
    "collapsed": false
   },
   "outputs": [],
   "source": [
    "from keras.models import Sequential\n",
    "from keras.layers import Dense, Activation\n",
    "from keras.optimizers import SGD\n",
    "\n",
    "keras_clf = Sequential()\n",
    "keras_clf.add(Dense(output_dim=1, input_dim=2))\n",
    "keras_clf.add(Activation('sigmoid'))\n",
    "keras_clf.compile(optimizer=SGD(lr=0.01), loss='binary_crossentropy')\n",
    "keras_clf.fit(X, y, batch_size=10, nb_epoch=200, verbose=0)"
   ]
  },
  {
   "cell_type": "markdown",
   "metadata": {},
   "source": [
    "#### Chainer<a name=\"chainer\"></a>"
   ]
  },
  {
   "cell_type": "code",
   "execution_count": null,
   "metadata": {
    "collapsed": false
   },
   "outputs": [],
   "source": [
    "import chainer\n",
    "import chainer.functions as F\n",
    "import chainer.links as L\n",
    "from chainer.datasets.tuple_dataset import TupleDataset\n",
    "from chainer.iterators import SerialIterator\n",
    "from chainer.training import StandardUpdater, Trainer\n",
    "\n",
    "class SimplePerceptron(chainer.Chain):\n",
    "\n",
    "    def __init__(self):\n",
    "        super(SimplePerceptron, self).__init__(\n",
    "            l1 = L.Linear(2, 1)\n",
    "        )\n",
    "\n",
    "    def __call__(self, x):\n",
    "        h = self.l1(x)\n",
    "\n",
    "        return h\n",
    "\n",
    "train_data = TupleDataset(X, y.reshape((-1, 1)))\n",
    "ch_clf = L.Classifier(SimplePerceptron(), lossfun=F.sigmoid_cross_entropy)\n",
    "ch_clf.compute_accuracy = False\n",
    "optimizer = chainer.optimizers.SGD()\n",
    "optimizer.setup(ch_clf)\n",
    "train_iter = SerialIterator(train_data, 10)\n",
    "updater = StandardUpdater(train_iter, optimizer, device=-1)\n",
    "trainer = Trainer(updater, (1000, 'iteration'))\n",
    "\n",
    "trainer.run()"
   ]
  },
  {
   "cell_type": "markdown",
   "metadata": {},
   "source": [
    "#### TensorFlow (learn + slim)<a name=\"tensorflow\"></a>"
   ]
  },
  {
   "cell_type": "code",
   "execution_count": null,
   "metadata": {
    "collapsed": false,
    "scrolled": true
   },
   "outputs": [],
   "source": [
    "import tensorflow as tf\n",
    "learn = tf.contrib.learn\n",
    "slim = tf.contrib.slim\n",
    "\n",
    "def model(x, y):\n",
    "    y = tf.reshape(y, [-1, 1])\n",
    "    logits = slim.fully_connected(x, 1, activation_fn=None)\n",
    "    loss = slim.losses.sigmoid_cross_entropy(logits, y)\n",
    "    train_op = slim.optimize_loss(loss, slim.get_global_step(), learning_rate=0.01, optimizer='SGD')\n",
    "    prob = tf.nn.sigmoid(logits)\n",
    "\n",
    "    return {'class': tf.round(prob), 'prob': prob}, loss, train_op\n",
    "\n",
    "tf_clf = learn.SKCompat(learn.Estimator(model_fn=model))\n",
    "tf_clf.fit(x=X, y=y, steps=1000, batch_size=10)"
   ]
  },
  {
   "cell_type": "markdown",
   "metadata": {},
   "source": [
    "### 結果の可視化<a name=\"visualization\"></a>"
   ]
  },
  {
   "cell_type": "code",
   "execution_count": null,
   "metadata": {
    "collapsed": false
   },
   "outputs": [],
   "source": [
    "import matplotlib.pyplot as plt\n",
    "from matplotlib.colors import ListedColormap\n",
    "\n",
    "margin = .5\n",
    "feature1, feature2 = X[:, 0], X[:, 1]\n",
    "x_min, x_max = feature1.min() - margin, feature1.max() + margin\n",
    "y_min, y_max = feature2.min() - margin, feature2.max() + margin\n",
    "resolution = min(x_max - x_min, y_max - y_min) / 400\n",
    "\n",
    "xx, yy = np.meshgrid(np.arange(x_min, x_max, resolution), np.arange(y_min, y_max, resolution))\n",
    "grid = np.c_[xx.ravel(), yy.ravel()].astype(np.float32)\n",
    "\n",
    "# scikit-learn\n",
    "probas = sk_clf.decision_function(grid)\n",
    "# Keras\n",
    "# probas = keras_clf.predict_proba(grid, verbose=0)\n",
    "# Chainer\n",
    "# probas = F.sigmoid(ch_clf.predictor(grid)).data\n",
    "# TensorFlow\n",
    "# probas = tf_clf.predict(grid)['prob']\n",
    "\n",
    "plt.figure(figsize=(4, 4))\n",
    "\n",
    "plt.xlim(x_min, x_max)\n",
    "plt.ylim(y_min, y_max)\n",
    "plt.xticks(())\n",
    "plt.yticks(())\n",
    "\n",
    "plt.pcolormesh(xx, yy, probas.reshape(xx.shape), cmap='RdBu', alpha=0.6)\n",
    "plt.scatter(feature1, feature2, c=y, cmap=ListedColormap(['#FF0000', '#0000FF']))\n",
    "\n",
    "plt.show()"
   ]
  }
 ],
 "metadata": {
  "kernelspec": {
   "display_name": "Python [Root]",
   "language": "python",
   "name": "Python [Root]"
  },
  "language_info": {
   "codemirror_mode": {
    "name": "ipython",
    "version": 3
   },
   "file_extension": ".py",
   "mimetype": "text/x-python",
   "name": "python",
   "nbconvert_exporter": "python",
   "pygments_lexer": "ipython3",
   "version": "3.5.2"
  }
 },
 "nbformat": 4,
 "nbformat_minor": 0
}
