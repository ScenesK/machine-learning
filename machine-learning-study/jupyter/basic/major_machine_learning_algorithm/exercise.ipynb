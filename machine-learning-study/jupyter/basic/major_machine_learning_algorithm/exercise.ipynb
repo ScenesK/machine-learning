{
 "cells": [
  {
   "cell_type": "markdown",
   "metadata": {},
   "source": [
    "# 演習問題2\n",
    "\n",
    "1. 紹介したモデルのパラメーターを変更してみる\n",
    "1. 学習済みモデルにトレーニングデータの一部を与えて、正解ラベルと比べてみる"
   ]
  }
 ],
 "metadata": {
  "kernelspec": {
   "display_name": "Python [Root]",
   "language": "python",
   "name": "Python [Root]"
  },
  "language_info": {
   "codemirror_mode": {
    "name": "ipython",
    "version": 3
   },
   "file_extension": ".py",
   "mimetype": "text/x-python",
   "name": "python",
   "nbconvert_exporter": "python",
   "pygments_lexer": "ipython3",
   "version": "3.5.2"
  }
 },
 "nbformat": 4,
 "nbformat_minor": 0
}
