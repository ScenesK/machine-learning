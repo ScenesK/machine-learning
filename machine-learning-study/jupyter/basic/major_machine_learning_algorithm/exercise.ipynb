{
 "cells": [
  {
   "cell_type": "markdown",
   "metadata": {},
   "source": [
    "# 演習問題2\n",
    "\n",
    "以下の条件でモデルを学習させ、学習に使用した中から任意のデータを選んで予測し、正解ラベルと比較してみる\n",
    "\n",
    "- [線形回帰](regression/linear_regression.ipynb)のモデルを以下の引数で比較してみる([ドキュメント](http://scikit-learn.org/stable/modules/generated/sklearn.linear_model.LinearRegression.html#sklearn.linear_model.LinearRegression))\n",
    " - fit_intercept=True, fit_intercept=False\n",
    "\n",
    "\n",
    "- [決定木](classification/decision_tree_classification.ipynb)のモデルを以下の引数で比較してみる([ドキュメント](http://scikit-learn.org/stable/modules/generated/sklearn.tree.DecisionTreeClassifier.html#sklearn.tree.DecisionTreeClassifier))\n",
    " - criterion='gini', criterion='entropy'\n",
    " - max_depthに様々な整数値を与えてみる\n",
    "\n",
    "\n",
    "- [k近傍法](classification/knn.ipynb)のモデルを以下の引数で比較してみる([ドキュメント](http://scikit-learn.org/stable/modules/generated/sklearn.neighbors.KNeighborsClassifier.html#sklearn.neighbors.KNeighborsClassifier))\n",
    " - n_neighbors, pに様々な整数値を与えてみる\n",
    "\n",
    "\n",
    "- [SVM(SVC)](classification/svc.ipynb)のモデルを以下の引数で比較してみる([ドキュメント](http://scikit-learn.org/stable/modules/generated/sklearn.svm.SVC.html#sklearn.svm.SVC))\n",
    " - Cに様々な浮動小数点の値を与えてみる(0.1, 1.0, 10.0のように対数スケールで間隔をとる)\n",
    " - kernel='rbf'で、gammaに様々な浮動小数点の値を与えてみる(0.1, 1.0, 10.0のように対数スケールで間隔をとる)\n",
    "\n",
    "\n",
    "- [ロジスティック回帰](neural_network/logistic_regression.ipynb)のモデルを以下の引数で比較してみる([ドキュメント](http://scikit-learn.org/stable/modules/generated/sklearn.linear_model.LogisticRegression.html#sklearn.linear_model.LogisticRegression))\n",
    " - penalty='l1', penalty='l2'\n",
    " - Cに様々な浮動小数点の値を与えてみる(0.1, 1.0, 10.0のように対数スケールで間隔をとる)"
   ]
  }
 ],
 "metadata": {
  "anaconda-cloud": {},
  "kernelspec": {
   "display_name": "Python [Root]",
   "language": "python",
   "name": "Python [Root]"
  },
  "language_info": {
   "codemirror_mode": {
    "name": "ipython",
    "version": 3
   },
   "file_extension": ".py",
   "mimetype": "text/x-python",
   "name": "python",
   "nbconvert_exporter": "python",
   "pygments_lexer": "ipython3",
   "version": "3.5.2"
  }
 },
 "nbformat": 4,
 "nbformat_minor": 0
}
