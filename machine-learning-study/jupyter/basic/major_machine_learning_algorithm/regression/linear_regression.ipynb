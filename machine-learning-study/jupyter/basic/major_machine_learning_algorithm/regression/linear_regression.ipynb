{
 "cells": [
  {
   "cell_type": "markdown",
   "metadata": {},
   "source": [
    "# 線形回帰(Linear Regression)\n",
    "\n",
    "## 線形回帰とは<a name=\"description\"></a>\n",
    "\n",
    "データの特徴から、正解の数値に近い数値を導き出すような線形のモデルを求める\n",
    "\n",
    "## 使用例<a name=\"example\"></a>\n",
    "\n",
    "### データ準備<a name=\"data\"></a>\n",
    "\n",
    "scikit-learnに用意されているデータを使用する。"
   ]
  },
  {
   "cell_type": "code",
   "execution_count": null,
   "metadata": {
    "collapsed": false
   },
   "outputs": [],
   "source": [
    "import numpy as np\n",
    "from sklearn.datasets import load_diabetes\n",
    "import pandas as pd\n",
    "\n",
    "# データ読み込み\n",
    "loader = load_diabetes()\n",
    "X, y = loader.data, loader.target\n",
    "\n",
    "# データフレーム作成\n",
    "data = np.hstack((X, y[:, np.newaxis]))\n",
    "columns = ['feature{i}'.format(i=i) for i in range(X.shape[1])] + ['Target']\n",
    "df = pd.DataFrame(data=data, columns=columns)\n",
    "\n",
    "# データ確認\n",
    "df.tail()"
   ]
  },
  {
   "cell_type": "code",
   "execution_count": null,
   "metadata": {
    "collapsed": false
   },
   "outputs": [],
   "source": [
    "df.describe()"
   ]
  },
  {
   "cell_type": "code",
   "execution_count": null,
   "metadata": {
    "collapsed": false
   },
   "outputs": [],
   "source": [
    "# 特徴を1つだけ利用(feature2)\n",
    "x = X[:, np.newaxis, 2]\n",
    "x.shape"
   ]
  },
  {
   "cell_type": "markdown",
   "metadata": {},
   "source": [
    "### 学習<a name=\"training\"></a>"
   ]
  },
  {
   "cell_type": "code",
   "execution_count": null,
   "metadata": {
    "collapsed": false
   },
   "outputs": [],
   "source": [
    "from sklearn.linear_model import LinearRegression\n",
    "\n",
    "reg = LinearRegression()\n",
    "reg.fit(x, y)"
   ]
  },
  {
   "cell_type": "markdown",
   "metadata": {},
   "source": [
    "### 結果の可視化<a name=\"visualization\"></a>"
   ]
  },
  {
   "cell_type": "code",
   "execution_count": null,
   "metadata": {
    "collapsed": false
   },
   "outputs": [],
   "source": [
    "import matplotlib.pyplot as plt\n",
    "\n",
    "plt.xlabel('feature')\n",
    "plt.ylabel('target')\n",
    "\n",
    "# 入力データの散布図\n",
    "plt.scatter(x, y)\n",
    "# 予測された回帰直線\n",
    "x_min, x_max = x.min() - .01, x.max() + .01\n",
    "line_x = np.array([x_min, x_max])[:, np.newaxis]\n",
    "line_y = reg.predict(line_x)\n",
    "plt.plot(line_x, line_y, color='green')\n",
    "\n",
    "plt.xlim(x_min, x_max)\n",
    "\n",
    "plt.show()"
   ]
  },
  {
   "cell_type": "markdown",
   "metadata": {},
   "source": [
    "## 複数特徴の利用<a name=\"multiple_features\"></a>"
   ]
  },
  {
   "cell_type": "code",
   "execution_count": null,
   "metadata": {
    "collapsed": false
   },
   "outputs": [],
   "source": [
    "import numpy as np\n",
    "from sklearn.datasets import load_diabetes\n",
    "from sklearn.linear_model import LinearRegression\n",
    "import matplotlib.pyplot as plt\n",
    "from mpl_toolkits.mplot3d import Axes3D\n",
    "\n",
    "loader = load_diabetes()\n",
    "# 特徴を2つ利用(feature2, feature8)\n",
    "X = loader.data[:, [2, 8]]\n",
    "y = loader.target\n",
    "\n",
    "# 学習\n",
    "reg = LinearRegression()\n",
    "reg.fit(X, y)\n",
    "\n",
    "fig = plt.figure()\n",
    "ax = Axes3D(fig, elev=5, azim=-45)\n",
    "\n",
    "# 入力データの散布図\n",
    "ax.scatter(X[:, 0], X[:, 1], y, c='blue', marker='o')\n",
    "\n",
    "x_min, x_max = X[:, 0].min() - .01, X[:, 0].max() + .01\n",
    "y_min, y_max = X[:, 1].min() - .01, X[:, 1].max() + .01\n",
    "\n",
    "xx, yy = np.meshgrid([x_min, x_max], [y_min, y_max])\n",
    "grid = np.c_[xx.ravel(), yy.ravel()]\n",
    "zz = reg.predict(grid)\n",
    "xx.shape = (2, 2)\n",
    "yy.shape = (2, 2)\n",
    "zz.shape = (2, 2)\n",
    "\n",
    "ax.plot_surface(xx, yy, zz, color='red', alpha=.6)\n",
    "\n",
    "ax.set_xlabel('feature 2')\n",
    "ax.set_ylabel('feature 8')\n",
    "ax.set_zlabel('target')\n",
    "ax.set_xticklabels(())\n",
    "ax.set_yticklabels(())\n",
    "ax.set_zticklabels(())\n",
    "\n",
    "plt.show()"
   ]
  }
 ],
 "metadata": {
  "kernelspec": {
   "display_name": "Python [Root]",
   "language": "python",
   "name": "Python [Root]"
  },
  "language_info": {
   "codemirror_mode": {
    "name": "ipython",
    "version": 3
   },
   "file_extension": ".py",
   "mimetype": "text/x-python",
   "name": "python",
   "nbconvert_exporter": "python",
   "pygments_lexer": "ipython3",
   "version": "3.5.2"
  }
 },
 "nbformat": 4,
 "nbformat_minor": 0
}
