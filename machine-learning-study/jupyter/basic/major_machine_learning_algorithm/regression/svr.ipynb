{
 "cells": [
  {
   "cell_type": "markdown",
   "metadata": {},
   "source": [
    "# サポートベクターマシン(Support Vector Machine Regression, SVM)\n",
    "\n",
    "## サポートベクターマシンとは<a name=\"description\"></a>\n",
    "\n",
    "- 未知のデータに対する汎化能力が高い\n",
    "- サンプルよりも特徴が多い場合に有効\n",
    "- 基本的には線形だが、カーネルトリックと呼ばれる手法を用いて非線形へ拡張可能\n",
    "\n",
    "## 使用例<a name=\"example\"></a>\n",
    "\n",
    "### データ準備<a name=\"data\"></a>"
   ]
  },
  {
   "cell_type": "code",
   "execution_count": null,
   "metadata": {
    "collapsed": false
   },
   "outputs": [],
   "source": [
    "import numpy as np\n",
    "import matplotlib.pyplot as plt\n",
    "\n",
    "np.random.seed(0)\n",
    "\n",
    "x = np.linspace(0, 5, 40)[:, np.newaxis]\n",
    "y = (np.sin(x) + np.random.normal(loc=0., scale=.1, size=x.shape)).flatten() # xのサイン波にノイズを加える\n",
    "\n",
    "plt.scatter(x, y)\n",
    "\n",
    "plt.show()"
   ]
  },
  {
   "cell_type": "markdown",
   "metadata": {},
   "source": [
    "### 線形カーネルの学習<a name=\"linear_training\"></a>"
   ]
  },
  {
   "cell_type": "code",
   "execution_count": null,
   "metadata": {
    "collapsed": false
   },
   "outputs": [],
   "source": [
    "from sklearn.svm import SVR\n",
    "\n",
    "linear_svr = SVR(kernel='linear')\n",
    "linear_svr.fit(x, y)"
   ]
  },
  {
   "cell_type": "markdown",
   "metadata": {},
   "source": [
    "### 結果の可視化<a name=\"linear_visualization\"></a>"
   ]
  },
  {
   "cell_type": "code",
   "execution_count": null,
   "metadata": {
    "collapsed": false
   },
   "outputs": [],
   "source": [
    "def show(x, y, model):\n",
    "    plt.scatter(x, y)\n",
    "\n",
    "    x_min, x_max = x.min() - .3, x.max() + .3\n",
    "    y_min, y_max = y.min() - .3, y.max() + .3\n",
    "\n",
    "    line_x = np.linspace(x_min, x_max, 20)[:, np.newaxis]\n",
    "    pred = model.predict(line_x)\n",
    "    plt.plot(line_x, pred, color='green')\n",
    "\n",
    "    plt.xlim(x_min, x_max)\n",
    "    plt.ylim(y_min, y_max)\n",
    "    plt.xticks(())\n",
    "    plt.yticks(())\n",
    "\n",
    "    plt.show()\n",
    "\n",
    "show(x, y, linear_svr)"
   ]
  },
  {
   "cell_type": "markdown",
   "metadata": {},
   "source": [
    "### 多項式カーネルの学習<a name=\"poly_training\"></a>"
   ]
  },
  {
   "cell_type": "code",
   "execution_count": null,
   "metadata": {
    "collapsed": false
   },
   "outputs": [],
   "source": [
    "poly_svr = SVR(kernel='poly', degree=2)\n",
    "poly_svr.fit(x, y)"
   ]
  },
  {
   "cell_type": "markdown",
   "metadata": {},
   "source": [
    "### 結果の可視化<a name=\"poly_visualization\"></a>"
   ]
  },
  {
   "cell_type": "code",
   "execution_count": null,
   "metadata": {
    "collapsed": false
   },
   "outputs": [],
   "source": [
    "show(x, y, poly_svr)"
   ]
  },
  {
   "cell_type": "markdown",
   "metadata": {},
   "source": [
    "### ガウシアンカーネルの学習<a name=\"rbf_training\"></a>"
   ]
  },
  {
   "cell_type": "code",
   "execution_count": null,
   "metadata": {
    "collapsed": false
   },
   "outputs": [],
   "source": [
    "rbf_svr = SVR(kernel='rbf', gamma=0.1)\n",
    "rbf_svr.fit(x, y)"
   ]
  },
  {
   "cell_type": "markdown",
   "metadata": {},
   "source": [
    "### 結果の可視化<a name=\"rbf_visualization\"></a>"
   ]
  },
  {
   "cell_type": "code",
   "execution_count": null,
   "metadata": {
    "collapsed": false
   },
   "outputs": [],
   "source": [
    "show(x, y, rbf_svr)"
   ]
  }
 ],
 "metadata": {
  "kernelspec": {
   "display_name": "Python [Root]",
   "language": "python",
   "name": "Python [Root]"
  },
  "language_info": {
   "codemirror_mode": {
    "name": "ipython",
    "version": 3
   },
   "file_extension": ".py",
   "mimetype": "text/x-python",
   "name": "python",
   "nbconvert_exporter": "python",
   "pygments_lexer": "ipython3",
   "version": "3.5.2"
  }
 },
 "nbformat": 4,
 "nbformat_minor": 0
}
