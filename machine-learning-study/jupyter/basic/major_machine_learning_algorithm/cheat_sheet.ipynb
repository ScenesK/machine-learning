{
 "cells": [
  {
   "cell_type": "markdown",
   "metadata": {},
   "source": [
    "# アルゴリズムチートシート\n",
    "\n",
    "## scikit-learn\n",
    "\n",
    "![scikit-learnアルゴリズムチートシート](http://scikit-learn.org/stable/_static/ml_map.png)\n",
    "\n",
    "## Azure Machine Learning\n",
    "\n",
    "![Azure Machine Learningアルゴリズムチートシート](https://docs.microsoft.com/ja-jp/azure/machine-learning/media/machine-learning-algorithm-cheat-sheet/machine-learning-algorithm-cheat-sheet-small_v_0_6-01.png)\n",
    "\n",
    "## dlib\n",
    "\n",
    "![dlibアルゴリズムチートシート](http://dlib.net/ml_guide.svg)"
   ]
  }
 ],
 "metadata": {
  "kernelspec": {
   "display_name": "Python 3",
   "language": "python",
   "name": "python3"
  },
  "language_info": {
   "codemirror_mode": {
    "name": "ipython",
    "version": 3
   },
   "file_extension": ".py",
   "mimetype": "text/x-python",
   "name": "python",
   "nbconvert_exporter": "python",
   "pygments_lexer": "ipython3",
   "version": "3.5.2"
  }
 },
 "nbformat": 4,
 "nbformat_minor": 2
}
