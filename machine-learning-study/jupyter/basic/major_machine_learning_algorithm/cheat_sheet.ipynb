{
 "cells": [
  {
   "cell_type": "markdown",
   "metadata": {},
   "source": [
    "# アルゴリズムチートシート\n",
    "\n",
    "## scikit-learn<a name=\"scikit-learn\"></a>\n",
    "\n",
    "![scikit-learnアルゴリズムチートシート](http://scikit-learn.org/stable/_static/ml_map.png)\n",
    "\n",
    "## Azure Machine Learning<a name=\"azure_ml\"></a>\n",
    "\n",
    "![Azure Machine Learningアルゴリズムチートシート](https://docs.microsoft.com/ja-jp/azure/machine-learning/media/machine-learning-algorithm-cheat-sheet/machine-learning-algorithm-cheat-sheet-small_v_0_6-01.png)\n",
    "\n",
    "## dlib<a name=\"dlib\"></a>\n",
    "\n",
    "![dlibアルゴリズムチートシート](http://dlib.net/ml_guide.svg)"
   ]
  }
 ],
 "metadata": {
  "kernelspec": {
   "display_name": "Python [Root]",
   "language": "python",
   "name": "Python [Root]"
  },
  "language_info": {
   "codemirror_mode": {
    "name": "ipython",
    "version": 3
   },
   "file_extension": ".py",
   "mimetype": "text/x-python",
   "name": "python",
   "nbconvert_exporter": "python",
   "pygments_lexer": "ipython3",
   "version": "3.5.2"
  }
 },
 "nbformat": 4,
 "nbformat_minor": 2
}
