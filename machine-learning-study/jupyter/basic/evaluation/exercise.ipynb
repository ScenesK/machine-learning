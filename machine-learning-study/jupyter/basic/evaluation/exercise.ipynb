{
 "cells": [
  {
   "cell_type": "markdown",
   "metadata": {},
   "source": [
    "# 演習問題3\n",
    "\n",
    "## 回帰 (regression)\n",
    "\n",
    "1. scikit-learnに用意されている[データセット](http://scikit-learn.org/stable/modules/classes.html#module-sklearn.datasets)から regression のデータを1つ選ぶ\n",
    "\n",
    "1. 選んだデータセットをトレーニングデータとテストデータに分割する\n",
    "\n",
    "1. [scikit-learnアルゴリズムチートシート](http://scikit-learn.org/stable/tutorial/machine_learning_map/index.html)に従ってモデルを選び、学習させ、テストデータに score メソッドを使用して評価する\n",
    "\n",
    "1. scikit-learnの[教師あり学習モデル](http://scikit-learn.org/stable/supervised_learning.html#supervised-learning)からチートシートに載っていない regression のモデルを選び、学習・評価し、複数のモデルを比較してみる\n",
    "\n",
    "## 分類 (classification)\n",
    "\n",
    "1. scikit-learnに用意されている[データセット](http://scikit-learn.org/stable/modules/classes.html#module-sklearn.datasets)から classification のデータを1つ選ぶ\n",
    "\n",
    "1. 選んだデータセットをトレーニングデータとテストデータに分割する\n",
    "\n",
    "1. [scikit-learnアルゴリズムチートシート](http://scikit-learn.org/stable/tutorial/machine_learning_map/index.html)に従ってモデルを選び、学習させ、テストデータに score メソッドを使用して評価する\n",
    "\n",
    "1. scikit-learnの[教師あり学習モデル](http://scikit-learn.org/stable/supervised_learning.html#supervised-learning)からチートシートに載っていない classification のモデルを選び、学習・評価し、複数のモデルを比較してみる\n",
    "\n",
    "1. 作成したモデルで[ROC曲線](http://scikit-learn.org/stable/modules/generated/sklearn.metrics.roc_curve.html#sklearn.metrics.roc_curve)を描画し、[ROC-AUC](http://scikit-learn.org/stable/modules/generated/sklearn.metrics.roc_curve.html#sklearn.metrics.roc_curve)を算出する"
   ]
  }
 ],
 "metadata": {
  "kernelspec": {
   "display_name": "Python [Root]",
   "language": "python",
   "name": "Python [Root]"
  },
  "language_info": {
   "codemirror_mode": {
    "name": "ipython",
    "version": 3
   },
   "file_extension": ".py",
   "mimetype": "text/x-python",
   "name": "python",
   "nbconvert_exporter": "python",
   "pygments_lexer": "ipython3",
   "version": "3.5.2"
  }
 },
 "nbformat": 4,
 "nbformat_minor": 0
}
