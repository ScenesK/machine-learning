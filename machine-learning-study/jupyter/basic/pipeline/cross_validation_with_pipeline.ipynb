{
 "cells": [
  {
   "cell_type": "markdown",
   "metadata": {},
   "source": [
    "# パイプラインに対するクロスバリデーション\n",
    "\n",
    "## データの準備<a name=\"data\"></a>"
   ]
  },
  {
   "cell_type": "code",
   "execution_count": null,
   "metadata": {
    "collapsed": false
   },
   "outputs": [],
   "source": [
    "import numpy as np\n",
    "import pandas as pd\n",
    "\n",
    "# USの国勢調査から収入（50K以下かどうか）を予測する\n",
    "# http://archive.ics.uci.edu/ml/datasets/Adult\n",
    "df = pd.read_csv('http://archive.ics.uci.edu/ml/machine-learning-databases/adult/adult.data', header=None)\n",
    "df.columns = ['age', 'workclass', 'fnlwgt', 'education', 'education-num', 'marital-status', 'occupation', 'relationship', 'race', 'sex', 'capital-gain', 'capital-loss', 'hours-per-week', 'native-country', 'income']\n",
    "categorical = [1, 3, 5, 6, 7, 8, 9, 13]\n",
    "continuous = [i for i in range(df.columns.size - 1) if i not in categorical]\n",
    "df.tail()"
   ]
  },
  {
   "cell_type": "code",
   "execution_count": null,
   "metadata": {
    "collapsed": false
   },
   "outputs": [],
   "source": [
    "from sklearn.preprocessing import LabelEncoder\n",
    "\n",
    "categorical_columns = categorical + [df.columns.size - 1]\n",
    "label_encoders = [LabelEncoder().fit(df.iloc[:, i]) for i in categorical_columns]\n",
    "for i, col in enumerate(categorical_columns):\n",
    "    df.iloc[:, col] = label_encoders[i].transform(df.iloc[:, col])\n",
    "\n",
    "df.tail()"
   ]
  },
  {
   "cell_type": "code",
   "execution_count": null,
   "metadata": {
    "collapsed": false
   },
   "outputs": [],
   "source": [
    "from sklearn.preprocessing import OneHotEncoder, StandardScaler\n",
    "from sklearn.model_selection import train_test_split\n",
    "\n",
    "X_categorical, X_continuous, y = df.iloc[:, categorical], df.iloc[:, continuous], df.iloc[:, -1]\n",
    "\n",
    "ohe = OneHotEncoder(sparse=False).fit(X_categorical)\n",
    "X_ohe = ohe.transform(X_categorical)\n",
    "\n",
    "X_ohe_train, X_ohe_test, X_continuous_train, X_continuous_test, y_train, y_test = train_test_split(X_ohe, X_continuous, y, test_size=.1, random_state=0)\n",
    "\n",
    "scaler = StandardScaler().fit(X_continuous_train)\n",
    "X_scaled_train = scaler.transform(X_continuous_train)\n",
    "X_scaled_test = scaler.transform(X_continuous_test)\n",
    "X_train, X_test = np.hstack((X_scaled_train, X_ohe_train)), np.hstack((X_scaled_test, X_ohe_test))\n",
    "\n",
    "for name, arr in zip(['X_train', 'X_test', 'y_train', 'y_test'], [X_train, X_test, y_train, y_test]):\n",
    "    print('{name}\\n shape: {shape}\\n sample: {sample}'.format(name=name, shape=arr.shape, sample=arr[:3]))"
   ]
  },
  {
   "cell_type": "markdown",
   "metadata": {},
   "source": [
    "## パイプライン構築<a name=\"pipeline\"></a>"
   ]
  },
  {
   "cell_type": "code",
   "execution_count": null,
   "metadata": {
    "collapsed": true
   },
   "outputs": [],
   "source": [
    "from sklearn.pipeline import Pipeline\n",
    "from sklearn.decomposition import PCA\n",
    "from sklearn.linear_model import LogisticRegression\n",
    "\n",
    "pipe = Pipeline([\n",
    "    ('PCA', PCA()),\n",
    "    ('estimator', LogisticRegression(random_state=0))\n",
    "])\n",
    "\n",
    "param_grid = {\n",
    "    'PCA__n_components': np.arange(50, 101, 10),\n",
    "    'estimator__penalty': ['l1', 'l2'],\n",
    "    'estimator__C': np.logspace(-2, 2, 5)\n",
    "}"
   ]
  },
  {
   "cell_type": "markdown",
   "metadata": {},
   "source": [
    "## クロスバリデーション実行<a name=\"cross-validation\"></a>"
   ]
  },
  {
   "cell_type": "code",
   "execution_count": null,
   "metadata": {
    "collapsed": false
   },
   "outputs": [],
   "source": [
    "from sklearn.model_selection import RandomizedSearchCV\n",
    "\n",
    "cv = RandomizedSearchCV(pipe, param_grid, n_iter=10, scoring='accuracy', n_jobs=-1, cv=5, verbose=2, random_state=0)\n",
    "cv.fit(X_train, y_train)"
   ]
  },
  {
   "cell_type": "code",
   "execution_count": null,
   "metadata": {
    "collapsed": false
   },
   "outputs": [],
   "source": [
    "cv_result = pd.DataFrame(cv.cv_results_)\n",
    "cv_result"
   ]
  },
  {
   "cell_type": "code",
   "execution_count": null,
   "metadata": {
    "collapsed": false
   },
   "outputs": [],
   "source": [
    "cv.best_params_"
   ]
  },
  {
   "cell_type": "code",
   "execution_count": null,
   "metadata": {
    "collapsed": false
   },
   "outputs": [],
   "source": [
    "score_cv = cv.best_score_\n",
    "score_test = cv.best_estimator_.score(X_test, y_test)\n",
    "print('CV: {cv:.3f}, Test: {test:.3f}'.format(cv=score_cv, test=score_test))"
   ]
  }
 ],
 "metadata": {
  "anaconda-cloud": {},
  "kernelspec": {
   "display_name": "Python [Root]",
   "language": "python",
   "name": "Python [Root]"
  },
  "language_info": {
   "codemirror_mode": {
    "name": "ipython",
    "version": 3
   },
   "file_extension": ".py",
   "mimetype": "text/x-python",
   "name": "python",
   "nbconvert_exporter": "python",
   "pygments_lexer": "ipython3",
   "version": "3.5.2"
  }
 },
 "nbformat": 4,
 "nbformat_minor": 2
}
