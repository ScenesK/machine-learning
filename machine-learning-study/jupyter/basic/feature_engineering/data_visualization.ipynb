{
 "cells": [
  {
   "cell_type": "markdown",
   "metadata": {},
   "source": [
    "# 入力データの可視化\n",
    "\n",
    "## データの読み込み"
   ]
  },
  {
   "cell_type": "code",
   "execution_count": null,
   "metadata": {
    "collapsed": false
   },
   "outputs": [],
   "source": [
    "import numpy as np\n",
    "from sklearn.datasets import load_boston\n",
    "import pandas as pd\n",
    "\n",
    "loader = load_boston()\n",
    "X, y = loader.data, loader.target\n",
    "\n",
    "data = np.concatenate((X, y[:, np.newaxis]), axis=1)\n",
    "columns = np.append(loader.feature_names, ['PRICE'])\n",
    "df = pd.DataFrame(data=data, columns=columns)\n",
    "df.tail()"
   ]
  },
  {
   "cell_type": "markdown",
   "metadata": {},
   "source": [
    "## 統計データ表示"
   ]
  },
  {
   "cell_type": "code",
   "execution_count": null,
   "metadata": {
    "collapsed": false
   },
   "outputs": [],
   "source": [
    "df.describe()"
   ]
  },
  {
   "cell_type": "markdown",
   "metadata": {},
   "source": [
    "## 相関行列表示\n",
    "\n",
    "散布図行列を表示すると、特徴同士の関係がわかりやすい。\n",
    "\n",
    "全ての特徴を表示すると見づらいので、以下では特徴2個と正解ラベルのみ表示。"
   ]
  },
  {
   "cell_type": "code",
   "execution_count": null,
   "metadata": {
    "collapsed": false
   },
   "outputs": [],
   "source": [
    "import matplotlib.pyplot as plt\n",
    "import seaborn as sns\n",
    "\n",
    "features = ['RM', 'LSTAT', 'PRICE']\n",
    "sns.pairplot(df[features], size=2)\n",
    "plt.show()"
   ]
  },
  {
   "cell_type": "markdown",
   "metadata": {},
   "source": [
    "特徴が多い場合は、相関係数を計算してヒートマップにする。"
   ]
  },
  {
   "cell_type": "code",
   "execution_count": null,
   "metadata": {
    "collapsed": false
   },
   "outputs": [],
   "source": [
    "corrcoef = np.corrcoef(df.T)\n",
    "labels = df.columns.values\n",
    "sns.heatmap(corrcoef, cbar=True, annot=True, square=True, fmt='.2f',\n",
    "            annot_kws={'size': 8}, xticklabels=labels, yticklabels=labels)\n",
    "\n",
    "plt.show()"
   ]
  }
 ],
 "metadata": {
  "kernelspec": {
   "display_name": "Python 3",
   "language": "python",
   "name": "python3"
  },
  "language_info": {
   "codemirror_mode": {
    "name": "ipython",
    "version": 3
   },
   "file_extension": ".py",
   "mimetype": "text/x-python",
   "name": "python",
   "nbconvert_exporter": "python",
   "pygments_lexer": "ipython3",
   "version": "3.5.2"
  }
 },
 "nbformat": 4,
 "nbformat_minor": 2
}
