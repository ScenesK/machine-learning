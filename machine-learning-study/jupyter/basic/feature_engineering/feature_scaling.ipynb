{
 "cells": [
  {
   "cell_type": "markdown",
   "metadata": {},
   "source": [
    "# 特徴のスケーリング\n",
    "\n",
    "## スケーリングとは<a name=\"description\"></a>\n",
    "\n",
    "- 特徴量の尺度を揃えること\n",
    "- 多くの機械学習アルゴリズムは、特徴量の尺度が揃っていないとうまく動かない\n",
    "- 代表的なものに正規化と標準化がある\n",
    "- 訓練データを変換するのに使用したのと同じパラメータで、未知のデータも変換しないといけない\n",
    "\n",
    "## 正規化(normalization)<a name=\"normalization\"></a>\n",
    "\n",
    "対象となる特徴の最小値・最大値を0・1になるようにスケーリングすること。その特徴のとる値の範囲が一定範囲内に限定される場合に有効。\n",
    "\n",
    "$\\begin{eqnarray}\n",
    "    x^{(i)}=\\frac{x^{(i)}\\ -\\ x_{min}}{x_{max}\\ -\\ x_{min}} \\nonumber\n",
    "\\end{eqnarray}$"
   ]
  },
  {
   "cell_type": "code",
   "execution_count": null,
   "metadata": {
    "collapsed": false
   },
   "outputs": [],
   "source": [
    "import numpy as np\n",
    "from sklearn.preprocessing import MinMaxScaler\n",
    "\n",
    "np.random.seed(0)\n",
    "\n",
    "X_train = np.random.uniform(low=-10, high=10, size=(700, 1))\n",
    "X_test = np.random.uniform(low=-9, high=9, size=(300, 1))\n",
    "\n",
    "scaler = MinMaxScaler()\n",
    "X_train_norm = scaler.fit_transform(X_train)\n",
    "X_test_norm = scaler.transform(X_test)\n",
    "print('X_train Min: {before:>6.3f} -> {after:>6.3f}'.format(before=X_train.min(), after=X_train_norm.min()))\n",
    "print('X_train Max: {before:>6.3f} -> {after:>6.3f}'.format(before=X_train.max(), after=X_train_norm.max()))\n",
    "print('X_test Min: {before:>6.3f} -> {after:>6.3f}'.format(before=X_test.min(), after=X_test_norm.min()))\n",
    "print('X_test Max: {before:>6.3f} -> {after:>6.3f}'.format(before=X_test.max(), after=X_test_norm.max()))"
   ]
  },
  {
   "cell_type": "markdown",
   "metadata": {},
   "source": [
    "## 標準化(standardization)<a name=\"standardization\"></a>\n",
    "\n",
    "対象となる特徴の分布が平均0・標準偏差1の正規分布となるようにスケーリングすること。多くの機械学習アルゴリズムの前処理として有効。正規化と比べて外れ値から受ける影響が少なくなる。\n",
    "\n",
    "$\\begin{eqnarray}\n",
    "    x^{(i)}=\\frac{x^{(i)}\\ -\\ \\mu_x}{\\sigma_x} \\nonumber\n",
    "\\end{eqnarray}$"
   ]
  },
  {
   "cell_type": "code",
   "execution_count": null,
   "metadata": {
    "collapsed": false
   },
   "outputs": [],
   "source": [
    "from sklearn.preprocessing import StandardScaler\n",
    "\n",
    "X = np.random.normal(loc=5, scale=2, size=(1000, 1))\n",
    "X_train = X[:700, :]\n",
    "X_test = X[700:, :]\n",
    "\n",
    "scaler = StandardScaler()\n",
    "X_train_std = scaler.fit_transform(X_train)\n",
    "X_test_std = scaler.transform(X_test)\n",
    "print('X_train Min: {before:>6.3f} -> {after:>6.3f}'.format(before=X_train.min(), after=X_train_std.min()))\n",
    "print('X_train Max: {before:>6.3f} -> {after:>6.3f}'.format(before=X_train.max(), after=X_train_std.max()))\n",
    "print('X_train Mean: {before:>6.3f} -> {after:>6.3f}'.format(before=X_train.mean(), after=X_train_std.mean()))\n",
    "print('X_train Std: {before:>6.3f} -> {after:>6.3f}'.format(before=X_train.std(), after=X_train_std.std()))\n",
    "print('X_test Min: {before:>6.3f} -> {after:>6.3f}'.format(before=X_test.min(), after=X_test_std.min()))\n",
    "print('X_test Max: {before:>6.3f} -> {after:>6.3f}'.format(before=X_test.max(), after=X_test_std.max()))\n",
    "print('X_train Mean: {before:>6.3f} -> {after:>6.3f}'.format(before=X_test.mean(), after=X_test_std.mean()))\n",
    "print('X_train Std: {before:>6.3f} -> {after:>6.3f}'.format(before=X_test.std(), after=X_test_std.std()))"
   ]
  }
 ],
 "metadata": {
  "anaconda-cloud": {},
  "kernelspec": {
   "display_name": "Python [Root]",
   "language": "python",
   "name": "Python [Root]"
  },
  "language_info": {
   "codemirror_mode": {
    "name": "ipython",
    "version": 3
   },
   "file_extension": ".py",
   "mimetype": "text/x-python",
   "name": "python",
   "nbconvert_exporter": "python",
   "pygments_lexer": "ipython3",
   "version": "3.5.2"
  }
 },
 "nbformat": 4,
 "nbformat_minor": 2
}
