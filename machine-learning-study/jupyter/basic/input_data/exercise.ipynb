{
 "cells": [
  {
   "cell_type": "markdown",
   "metadata": {},
   "source": [
    "# 演習問題4\n",
    "\n",
    "## 欠損値\n",
    "\n",
    "1. [sklearn.datasets.make_regression](http://scikit-learn.org/stable/modules/generated/sklearn.datasets.make_regression.html#sklearn.datasets.make_regression)を使用し、サンプルデータを作成する\n",
    "1. 以下のコードを参考にデータに欠損値を作成する\n",
    "\n",
    " > X[np.random.uniform(size=X.shape) < 0.6] = np.nan\n",
    "\n",
    "1. X, yを1つの行列に統合し、pandasで読み込み、各特徴の欠損値を確認する\n",
    "1. 任意の割合以上のデータで欠損値がある特徴を削除する\n",
    "1. 任意の割合以上の特徴で欠損値があるデータを削除する\n",
    "1. 各特徴を代表値で補完する\n",
    "\n",
    "## カテゴリデータ\n",
    "\n",
    "1. 以下のコードを実行してデータを作成する\n",
    "\n",
    " > X = np.random.randint(3, size=(100, 2))\n",
    " > y = np.random.randint(3, size=100)\n",
    "\n",
    "1. X, yを1つの行列に統合し、pandasで読み込む\n",
    "1. One Hotエンコーディングを適用する"
   ]
  }
 ],
 "metadata": {
  "kernelspec": {
   "display_name": "Python [Root]",
   "language": "python",
   "name": "Python [Root]"
  },
  "language_info": {
   "codemirror_mode": {
    "name": "ipython",
    "version": 3
   },
   "file_extension": ".py",
   "mimetype": "text/x-python",
   "name": "python",
   "nbconvert_exporter": "python",
   "pygments_lexer": "ipython3",
   "version": "3.5.2"
  }
 },
 "nbformat": 4,
 "nbformat_minor": 0
}
