{
 "cells": [
  {
   "cell_type": "markdown",
   "metadata": {},
   "source": [
    "# カテゴリデータ\n",
    "\n",
    "## カテゴリデータの種類<a name=\"variation\"></a>\n",
    "\n",
    "- 名義尺度(nominal level)\n",
    " - カテゴリの順序に意味がないもの\n",
    " - 例：都道府県\n",
    "- 順序尺度(ordinal scale)\n",
    " - カテゴリの順序に意味があるが、加減などの演算には意味がないもの\n",
    " - 例：アンケートの5段階評価\n",
    "\n",
    "## カテゴリデータの変換<a name=\"transformation\"></a>\n",
    "\n",
    "### データ作成<a name=\"data\"></a>"
   ]
  },
  {
   "cell_type": "code",
   "execution_count": null,
   "metadata": {
    "collapsed": false
   },
   "outputs": [],
   "source": [
    "import pandas as pd\n",
    "\n",
    "df = pd.DataFrame([\n",
    "    ['赤', 'S', 1000, '分類1'],\n",
    "    ['緑', 'M', 1200, '分類2'],\n",
    "    ['青', 'L', 1400, '分類1'],\n",
    "    ['赤', 'XL', 1800, '分類2'],\n",
    "    ['青', 'S', 1300, '分類1']\n",
    "])\n",
    "df.columns = ['色', 'サイズ', '価格', '分類']\n",
    "df"
   ]
  },
  {
   "cell_type": "markdown",
   "metadata": {},
   "source": [
    "### 順序尺度の変換<a name=\"ordinal_scale\"></a>\n",
    "\n",
    "整数値に置き換えてしまう。"
   ]
  },
  {
   "cell_type": "code",
   "execution_count": null,
   "metadata": {
    "collapsed": false
   },
   "outputs": [],
   "source": [
    "# マップ作成\n",
    "size_mapping = {\n",
    "    'S': 1,\n",
    "    'M': 2,\n",
    "    'L': 3,\n",
    "    'XL': 4\n",
    "}\n",
    "# 変換\n",
    "df['サイズ'] = df['サイズ'].map(size_mapping)\n",
    "df"
   ]
  },
  {
   "cell_type": "code",
   "execution_count": null,
   "metadata": {
    "collapsed": false
   },
   "outputs": [],
   "source": [
    "# 復元\n",
    "inv_size_mapping = {v: k for k, v in size_mapping.items()}\n",
    "df['サイズ'] = df['サイズ'].map(inv_size_mapping)\n",
    "df"
   ]
  },
  {
   "cell_type": "code",
   "execution_count": null,
   "metadata": {
    "collapsed": true
   },
   "outputs": [],
   "source": [
    "df['サイズ'] = df['サイズ'].map(size_mapping)"
   ]
  },
  {
   "cell_type": "markdown",
   "metadata": {},
   "source": [
    "### 名義尺度の変換<a name=\"nominal_level\"></a>\n",
    "\n",
    "正解ラベルの変換"
   ]
  },
  {
   "cell_type": "code",
   "execution_count": null,
   "metadata": {
    "collapsed": false
   },
   "outputs": [],
   "source": [
    "from sklearn.preprocessing import LabelEncoder\n",
    "\n",
    "class_encoder = LabelEncoder()\n",
    "y = class_encoder.fit_transform(df['分類'].values)\n",
    "y"
   ]
  },
  {
   "cell_type": "code",
   "execution_count": null,
   "metadata": {
    "collapsed": false
   },
   "outputs": [],
   "source": [
    "# 復元\n",
    "class_encoder.inverse_transform(y)"
   ]
  },
  {
   "cell_type": "markdown",
   "metadata": {},
   "source": [
    "特徴量の変換にはone-hotエンコーディングを利用(正解ラベルと同じように処理すると順序が発生してしまうので注意)"
   ]
  },
  {
   "cell_type": "code",
   "execution_count": null,
   "metadata": {
    "collapsed": false
   },
   "outputs": [],
   "source": [
    "# scikit-learnの機能を利用\n",
    "from sklearn.preprocessing import OneHotEncoder\n",
    "\n",
    "color_encoder = LabelEncoder()\n",
    "\n",
    "X = df.iloc[:, :-1].values\n",
    "# LabelEncoderで列0を整数値に置換\n",
    "X[:, 0] = color_encoder.fit_transform(X[:, 0])\n",
    "# OneHotEncoderで列0をOneHotEncoding(Sparse Matrixになるのでpandasに渡す際には通常のarrayに戻す)\n",
    "one_hot = OneHotEncoder(categorical_features=[0]).fit(X)\n",
    "data = one_hot.transform(X).toarray()\n",
    "pd.DataFrame(data)"
   ]
  },
  {
   "cell_type": "code",
   "execution_count": null,
   "metadata": {
    "collapsed": false
   },
   "outputs": [],
   "source": [
    "# pandasの機能を利用\n",
    "columns = list(df.columns.values)\n",
    "pd.get_dummies(df[columns[:-1]])"
   ]
  },
  {
   "cell_type": "markdown",
   "metadata": {},
   "source": [
    "機械学習アルゴリズムの中には、特徴同士に完全な相関があると動かないものもある。one-hotエンコーディングを行った場合、最後の特徴はその前の特徴とそのような関係になることがあるし、他の特徴から完全に再現可能なため削除することが望ましいが、scikit-learnを使う上では概ね問題なく動作する。自分で実装する場合には注意が必要。"
   ]
  }
 ],
 "metadata": {
  "anaconda-cloud": {},
  "kernelspec": {
   "display_name": "Python [Root]",
   "language": "python",
   "name": "Python [Root]"
  },
  "language_info": {
   "codemirror_mode": {
    "name": "ipython",
    "version": 3
   },
   "file_extension": ".py",
   "mimetype": "text/x-python",
   "name": "python",
   "nbconvert_exporter": "python",
   "pygments_lexer": "ipython3",
   "version": "3.5.2"
  }
 },
 "nbformat": 4,
 "nbformat_minor": 2
}
