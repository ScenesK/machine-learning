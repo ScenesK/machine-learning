{
 "cells": [
  {
   "cell_type": "markdown",
   "metadata": {},
   "source": [
    "# 決定木(Decision Tree)\n",
    "\n",
    "## 特徴\n",
    "\n",
    "決定木は仕組み自体は単純だが、十分な深さがあれば全ての学習サンプルを完璧に分類できる高バリアンスなモデル。そのため、深さに制限を設けて枝刈り(剪定)し、過学習を防ぐ。\n",
    "\n",
    "## 仕組み\n",
    "\n",
    "得られる情報(情報利得 = information gain)が最大となる特徴・条件でデータを分割していく。得られる情報が最大となるというのは、分割された枝葉の不純度(impurity)が最も低くなること。\n",
    "\n",
    "情報利得は、親ノードの不純度と子ノードの不純度の差で定義される。つまり目的関数は以下のように定義される。( $D_p,\\ D_j$ はそれぞれ親ノード・子ノード $j$ のデータセット、$I(D)$ はデータセット $D$ の不純度を表す関数、$N_p,\\ N_j$ はそれぞれ親ノード・子ノード $j$ のサンプル数、$m$ は分割する子ノードの数)\n",
    "\n",
    "情報利得 $\\begin{eqnarray}\n",
    "    =\\ I(D_p)-\\sum_{j=1}^m\\frac{N_j}{N_p}I(D_j)\\nonumber\n",
    "\\end{eqnarray}$\n",
    "\n",
    "決定木で不純度を表す関数 $I$ に使われる代表的なものにエントロピーとジニ不純度があるが、どちらも結果に大きな違いはない。エントロピーについては[別の項](../../optimization/optimization.ipynb#entropy)で説明。"
   ]
  }
 ],
 "metadata": {
  "kernelspec": {
   "display_name": "Python [Root]",
   "language": "python",
   "name": "Python [Root]"
  },
  "language_info": {
   "codemirror_mode": {
    "name": "ipython",
    "version": 3
   },
   "file_extension": ".py",
   "mimetype": "text/x-python",
   "name": "python",
   "nbconvert_exporter": "python",
   "pygments_lexer": "ipython3",
   "version": "3.5.2"
  }
 },
 "nbformat": 4,
 "nbformat_minor": 0
}
