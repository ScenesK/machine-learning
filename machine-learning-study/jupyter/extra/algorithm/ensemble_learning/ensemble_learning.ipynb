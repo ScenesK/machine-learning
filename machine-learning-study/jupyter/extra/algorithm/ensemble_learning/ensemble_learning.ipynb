{
 "cells": [
  {
   "cell_type": "markdown",
   "metadata": {},
   "source": [
    "# 集団学習(Ensemble Learning)\n",
    "\n",
    "## 集団学習とは\n",
    "\n",
    "- 複数のモデル(弱学習器)を組み合わせて、過学習しにくい汎化能力の高いモデルを構築する方法\n",
    "- 代表的なものにバギング(bagging)とブースティング(boosting)がある(コンペなどモデルの複雑性が増してもひたすら精度を求める場面ではスタッキング(stacking)も使われる)\n",
    "\n",
    "## 注意点\n",
    "\n",
    "- 集団学習は単一のモデルを使用する場合に比べてモデルが複雑になり、計算量が大幅に増え、メンテナンスもしにくくなる\n",
    "- 性能の改善は比較的緩やか\n",
    "- 賞金100万ドルのコンテストNetflix Prizeで優勝したモデルは導入コストに見合うほどの性能改善が期待できず、結局利用されなかったという例もある"
   ]
  }
 ],
 "metadata": {
  "kernelspec": {
   "display_name": "Python 3",
   "language": "python",
   "name": "python3"
  },
  "language_info": {
   "codemirror_mode": {
    "name": "ipython",
    "version": 3
   },
   "file_extension": ".py",
   "mimetype": "text/x-python",
   "name": "python",
   "nbconvert_exporter": "python",
   "pygments_lexer": "ipython3",
   "version": "3.5.2"
  }
 },
 "nbformat": 4,
 "nbformat_minor": 2
}
