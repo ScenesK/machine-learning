{
 "cells": [
  {
   "cell_type": "markdown",
   "metadata": {},
   "source": [
    "# ランダム・フォレスト(Random Forest)\n",
    "\n",
    "## ランダム・フォレストとは\n",
    "\n",
    "- バギング(bagging)の代表的手法\n",
    "- 一部の特徴のみ(サンプルも一部のみの場合あり)を使って学習した複数の決定木の多数決や平均値で予測\n",
    "- 複数の決定木を組み合わせることで予測精度や汎化能力向上\n",
    "- 決定木を基にしているが、決定木のような結果に対する説明力はない\n",
    "- [特徴選択にも利用可能](random_forest_feature_importance.ipynb)"
   ]
  },
  {
   "cell_type": "markdown",
   "metadata": {},
   "source": [
    "## 分類\n",
    "\n",
    "### データの準備"
   ]
  },
  {
   "cell_type": "code",
   "execution_count": null,
   "metadata": {
    "collapsed": false
   },
   "outputs": [],
   "source": [
    "from sklearn.datasets import make_moons, make_circles\n",
    "from sklearn.preprocessing import StandardScaler\n",
    "import matplotlib.pyplot as plt\n",
    "\n",
    "datasets = [\n",
    "    make_moons(noise=.3, random_state=0),\n",
    "    make_circles(noise=.2, factor=.5, random_state=0)\n",
    "]\n",
    "\n",
    "def get_min_max(x):\n",
    "    margin = .1\n",
    "    return x.min() - margin, x.max() + margin\n",
    "\n",
    "plt.figure(figsize=(3, 3 * len(datasets)))\n",
    "\n",
    "for i, (X, y) in enumerate(datasets):\n",
    "    x_min, x_max = get_min_max(X[:, 0])\n",
    "    y_min, y_max = get_min_max(X[:, 1])\n",
    "\n",
    "    ax = plt.subplot(len(datasets), 1, i + 1)\n",
    "\n",
    "    ax.scatter(X[:, 0], X[:, 1], c=y, cmap='bwr')\n",
    "\n",
    "    ax.set_xlim(x_min, x_max)\n",
    "    ax.set_ylim(y_min, y_max)\n",
    "    ax.set_xticks(())\n",
    "    ax.set_yticks(())\n",
    "\n",
    "plt.show()"
   ]
  },
  {
   "cell_type": "markdown",
   "metadata": {},
   "source": [
    "### 学習"
   ]
  },
  {
   "cell_type": "code",
   "execution_count": null,
   "metadata": {
    "collapsed": false
   },
   "outputs": [],
   "source": [
    "import numpy as np\n",
    "from sklearn.tree import DecisionTreeClassifier\n",
    "from sklearn.ensemble import RandomForestClassifier\n",
    "\n",
    "titles = ['Decision Tree', 'Random Forest']\n",
    "classifiers = [\n",
    "    DecisionTreeClassifier,\n",
    "    RandomForestClassifier\n",
    "]\n",
    "models = []\n",
    "\n",
    "for (X, y ) in datasets:\n",
    "    for i, clf in enumerate(classifiers):\n",
    "        model = clf(max_depth=5, random_state=0)\n",
    "        if i == 1:\n",
    "            model.set_params(n_estimators=20, max_features=1)\n",
    "        model.fit(X, y)\n",
    "        models.append(model)"
   ]
  },
  {
   "cell_type": "markdown",
   "metadata": {},
   "source": [
    "### 結果の可視化"
   ]
  },
  {
   "cell_type": "code",
   "execution_count": null,
   "metadata": {
    "collapsed": false
   },
   "outputs": [],
   "source": [
    "resolution = 200\n",
    "\n",
    "plt.figure(figsize=(3 * len(classifiers), 3 * len(datasets)))\n",
    "\n",
    "for i, model in enumerate(models):\n",
    "    ds_id = i // len(classifiers)\n",
    "    clf_id = i % len(datasets)\n",
    "    X, y = datasets[ds_id]\n",
    "    x_min, x_max = get_min_max(X[:, 0])\n",
    "    y_min, y_max = get_min_max(X[:, 1])\n",
    "    xx, yy = np.meshgrid(np.linspace(x_min, x_max, resolution), np.linspace(y_min, y_max, resolution))\n",
    "    Z = model.predict_proba(np.c_[xx.ravel(), yy.ravel()])[:, 1].reshape(xx.shape)\n",
    "\n",
    "    ax = plt.subplot(len(datasets), len(classifiers), i + 1)\n",
    "\n",
    "    if ds_id == 0:\n",
    "        ax.set_title(titles[clf_id])\n",
    "    plt.pcolormesh(xx, yy, Z, cmap='bwr', alpha=.5)\n",
    "    ax.scatter(X[:, 0], X[:, 1], c=y, cmap='bwr')\n",
    "\n",
    "    ax.set_xlim(x_min, x_max)\n",
    "    ax.set_ylim(y_min, y_max)\n",
    "    ax.set_xticks(())\n",
    "    ax.set_yticks(())\n",
    "\n",
    "plt.show()"
   ]
  },
  {
   "cell_type": "markdown",
   "metadata": {},
   "source": [
    "## 回帰\n",
    "\n",
    "### データの準備"
   ]
  },
  {
   "cell_type": "code",
   "execution_count": null,
   "metadata": {
    "collapsed": false
   },
   "outputs": [],
   "source": [
    "np.random.seed(0)\n",
    "\n",
    "n_sample = 300\n",
    "n_noise = 5\n",
    "x = np.random.uniform(low=-3, high=3, size=(n_sample, 1))\n",
    "y = (np.sin(x) + np.random.normal(scale=.3, size=x.shape)).ravel()\n",
    "x_min, x_max = get_min_max(x)\n",
    "y_min, y_max = get_min_max(y)\n",
    "\n",
    "plt.figure(figsize=(6, 3))\n",
    "\n",
    "plt.scatter(x, y)\n",
    "\n",
    "plt.xlim(x_min, x_max)\n",
    "plt.ylim(y_min, y_max)\n",
    "plt.xticks(())\n",
    "plt.yticks(())\n",
    "\n",
    "plt.show()"
   ]
  },
  {
   "cell_type": "markdown",
   "metadata": {},
   "source": [
    "### 学習"
   ]
  },
  {
   "cell_type": "code",
   "execution_count": null,
   "metadata": {
    "collapsed": false
   },
   "outputs": [],
   "source": [
    "from sklearn.tree import DecisionTreeRegressor\n",
    "from sklearn.ensemble import RandomForestRegressor\n",
    "\n",
    "tree = DecisionTreeRegressor(random_state=0).fit(x, y)\n",
    "forest = RandomForestRegressor(n_estimators=20, n_jobs=-1, random_state=0).fit(x, y)\n",
    "regressors = [tree, forest]"
   ]
  },
  {
   "cell_type": "markdown",
   "metadata": {},
   "source": [
    "### 結果の可視化"
   ]
  },
  {
   "cell_type": "code",
   "execution_count": null,
   "metadata": {
    "collapsed": false
   },
   "outputs": [],
   "source": [
    "titles = ['Decision Tree', 'Random Forest']\n",
    "\n",
    "plt.figure(figsize=(12, 3))\n",
    "\n",
    "sample_x = np.linspace(x_min, x_max, n_sample * 4)[:, np.newaxis]\n",
    "\n",
    "for i, model in enumerate(regressors):\n",
    "    ax = plt.subplot(1, 2, i + 1)\n",
    "    ax.set_title(titles[i])\n",
    "\n",
    "    ax.scatter(x, y)\n",
    "    ax.plot(sample_x, model.predict(sample_x), color='r')\n",
    "\n",
    "    ax.set_xlim(x_min, x_max)\n",
    "    ax.set_ylim(y_min, y_max)\n",
    "    ax.set_xticks(())\n",
    "    ax.set_yticks(())\n",
    "\n",
    "plt.show()"
   ]
  }
 ],
 "metadata": {
  "kernelspec": {
   "display_name": "Python 3",
   "language": "python",
   "name": "python3"
  },
  "language_info": {
   "codemirror_mode": {
    "name": "ipython",
    "version": 3
   },
   "file_extension": ".py",
   "mimetype": "text/x-python",
   "name": "python",
   "nbconvert_exporter": "python",
   "pygments_lexer": "ipython3",
   "version": "3.5.2"
  }
 },
 "nbformat": 4,
 "nbformat_minor": 0
}
