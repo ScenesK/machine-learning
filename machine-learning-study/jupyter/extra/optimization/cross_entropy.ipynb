{
 "cells": [
  {
   "cell_type": "markdown",
   "metadata": {},
   "source": [
    "# 交差エントロピー誤差(Cross-entropy Loss)\n",
    "\n",
    "## 導出\n",
    "\n",
    "高校生レベルの数学で導出できる。\n",
    "\n",
    "入力を $x$、現在のパラメーターを $\\theta$、正解ラベルを $y$、予測値を $\\hat{y}=\\phi\\left(x,\\ \\theta\\right)$、予測値が正解ラベルに属する確率を $p\\left(y\\ |\\ x,\\ \\theta\\right)$ とする。例えば、$\\hat{y}=\\phi\\left(x,\\ \\theta\\right)=0.9$ だとして $y=1$ のとき $p\\left(y\\ |\\ x,\\ \\theta\\right)=0.9$、$y=0$のとき $p\\left(y\\ |\\ x,\\ \\theta\\right)=0.1$。与えられた特徴から、学習データを生成する確率の最も高い関数 $p$ が求めるものなので、尤度 $L$ は以下のように定義される。\n",
    "\n",
    "$\\begin{eqnarray}\n",
    "    L&=&p\\left(y_1\\ |\\ x_1,\\ \\theta_1\\right)\\times p\\left(y_2\\ |\\ x_2,\\ \\theta_2\\right)...p\\left(y_n\\ |\\ x_n,\\ \\theta_n\\right) \\nonumber \\\\\n",
    "    &=&\\prod_{i=1}^n{p\\left(y_i\\ |\\ x_i,\\ \\theta_i\\right)} \\nonumber\n",
    "\\end{eqnarray}$\n",
    "\n",
    "正解ラベル $y$ は$0$か$1$しか取らないので\n",
    "\n",
    "$p\\left(y_i\\ |\\ x_i,\\ \\theta_i\\right)=\\begin{cases}\n",
    "    \\hat{y}_i & (y=1) \\\\\n",
    "    1-\\hat{y}_i & (y=0)\n",
    "\\end{cases}$\n",
    "\n",
    "これを利用すると、以下のように変形できる。\n",
    "\n",
    "$\\begin{eqnarray}\n",
    "    L=\\prod_{i=1}^n{\\left(\\hat{y}_i\\right)^{y_i}\\left(1-\\hat{y}_i\\right)^{1-y_i}} \\nonumber\n",
    "\\end{eqnarray}$\n",
    "\n",
    "確率の積よりも、その対数尤度(log-likelihood) $l$ の和にしたほうが扱いやすい。\n",
    "\n",
    "$\\begin{eqnarray}\n",
    "    l&=&logL \\nonumber \\\\\n",
    "    &=&\\sum_{i=1}^n\\left[y_ilog\\left(\\hat{y}_i\\right)+\\left(1-y_i\\right)log\\left(1-\\hat{y}_i\\right)\\right] \\nonumber\n",
    "\\end{eqnarray}$\n",
    "\n",
    "符合を反転させると、最小化したい誤差になる\n",
    "\n",
    "$\\begin{eqnarray}\n",
    "    CrossEntropy=\\sum_{i=1}^n\\left[-y_ilog\\left(\\hat{y}_i\\right)-\\left(1-y_i\\right)log\\left(1-\\hat{y}_i\\right)\\right] \\nonumber\n",
    "\\end{eqnarray}$\n"
   ]
  }
 ],
 "metadata": {
  "anaconda-cloud": {},
  "kernelspec": {
   "display_name": "Python [Root]",
   "language": "python",
   "name": "Python [Root]"
  },
  "language_info": {
   "codemirror_mode": {
    "name": "ipython",
    "version": 3
   },
   "file_extension": ".py",
   "mimetype": "text/x-python",
   "name": "python",
   "nbconvert_exporter": "python",
   "pygments_lexer": "ipython3",
   "version": "3.5.2"
  }
 },
 "nbformat": 4,
 "nbformat_minor": 0
}
