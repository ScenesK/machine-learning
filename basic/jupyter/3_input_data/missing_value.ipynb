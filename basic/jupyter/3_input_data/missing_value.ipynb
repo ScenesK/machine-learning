{
 "cells": [
  {
   "cell_type": "markdown",
   "metadata": {},
   "source": [
    "# 欠損値\n",
    "\n",
    "## 欠損値とは\n",
    "\n",
    "- NaN・空欄・プレースホルダ文字列など、何らかの理由で値の抜け落ちたデータ\n",
    "- ほとんどのアルゴリズムは欠損値があると動かないので、対処が必要\n",
    "\n",
    "## 欠損値の確認"
   ]
  },
  {
   "cell_type": "code",
   "execution_count": null,
   "metadata": {
    "collapsed": false
   },
   "outputs": [],
   "source": [
    "import pandas as pd\n",
    "from io import StringIO\n",
    "\n",
    "csv = '''A,B,C,D,E\n",
    "1,2,3,4,5\n",
    "6,7,8,9,\n",
    "10,11,12,13,14\n",
    "15,16,17,,\n",
    "18,,19,,\n",
    "'''\n",
    "df = pd.read_csv(StringIO(csv))\n",
    "\n",
    "df"
   ]
  },
  {
   "cell_type": "code",
   "execution_count": null,
   "metadata": {
    "collapsed": false
   },
   "outputs": [],
   "source": [
    "df.isnull().sum()"
   ]
  },
  {
   "cell_type": "markdown",
   "metadata": {},
   "source": [
    "## 欠損値への対処法\n",
    "\n",
    "### 除去する\n",
    "\n",
    "最も単純な方法だが、やりすぎるとデータが不足したり、必要な情報まで失われる可能性がある。\n",
    "\n",
    "- 欠損値を含むサンプル(行)を削除"
   ]
  },
  {
   "cell_type": "code",
   "execution_count": null,
   "metadata": {
    "collapsed": false
   },
   "outputs": [],
   "source": [
    "df.dropna()"
   ]
  },
  {
   "cell_type": "markdown",
   "metadata": {},
   "source": [
    "- 欠損値を含む特徴(列)を削除"
   ]
  },
  {
   "cell_type": "code",
   "execution_count": null,
   "metadata": {
    "collapsed": false
   },
   "outputs": [],
   "source": [
    "df.dropna(axis=1)"
   ]
  },
  {
   "cell_type": "markdown",
   "metadata": {},
   "source": [
    "- 全ての特徴が欠損している行を削除"
   ]
  },
  {
   "cell_type": "code",
   "execution_count": null,
   "metadata": {
    "collapsed": false
   },
   "outputs": [],
   "source": [
    "df2 = pd.DataFrame([[None] * 5], columns=list(df.columns.values))\n",
    "df.append(df2, ignore_index=True)"
   ]
  },
  {
   "cell_type": "code",
   "execution_count": null,
   "metadata": {
    "collapsed": false
   },
   "outputs": [],
   "source": [
    "df.dropna(how='all')"
   ]
  },
  {
   "cell_type": "markdown",
   "metadata": {},
   "source": [
    "- 任意の数以上の特徴がある行を残して削除"
   ]
  },
  {
   "cell_type": "code",
   "execution_count": null,
   "metadata": {
    "collapsed": false
   },
   "outputs": [],
   "source": [
    "df.dropna(thresh=3)"
   ]
  },
  {
   "cell_type": "markdown",
   "metadata": {},
   "source": [
    "- 特定の特徴に欠損がある行を削除"
   ]
  },
  {
   "cell_type": "code",
   "execution_count": null,
   "metadata": {
    "collapsed": false
   },
   "outputs": [],
   "source": [
    "df.dropna(subset=['B'])"
   ]
  },
  {
   "cell_type": "markdown",
   "metadata": {},
   "source": [
    "### 補完する\n",
    "\n",
    "訓練データを補完してモデルを学習した場合は、学習していないデータから予測する場合にも、訓練データの補完に用いたのと同じパラメータで補完しなければならない。\n",
    "\n",
    "- 平均値(mean)で補完する"
   ]
  },
  {
   "cell_type": "code",
   "execution_count": null,
   "metadata": {
    "collapsed": false
   },
   "outputs": [],
   "source": [
    "from sklearn.preprocessing import Imputer\n",
    "\n",
    "imr = Imputer(missing_values='NaN', strategy='mean', axis=0).fit(df)\n",
    "imr.transform(df.values)"
   ]
  },
  {
   "cell_type": "markdown",
   "metadata": {},
   "source": [
    "- 中央値(median)で補完する"
   ]
  },
  {
   "cell_type": "code",
   "execution_count": null,
   "metadata": {
    "collapsed": false
   },
   "outputs": [],
   "source": [
    "import numpy as np\n",
    "choice = np.random.choice\n",
    "\n",
    "row, col = 6, 3\n",
    "np.random.seed(0)\n",
    "\n",
    "values = np.random.normal(size=row * col)\n",
    "values[choice(values.size, row)] = np.NaN\n",
    "values = values.reshape((row, col))\n",
    "values"
   ]
  },
  {
   "cell_type": "code",
   "execution_count": null,
   "metadata": {
    "collapsed": false
   },
   "outputs": [],
   "source": [
    "Imputer(missing_values='NaN', strategy='median', axis=0).fit_transform(values)"
   ]
  },
  {
   "cell_type": "markdown",
   "metadata": {},
   "source": [
    "- 最頻値(mode)で補完する"
   ]
  },
  {
   "cell_type": "code",
   "execution_count": null,
   "metadata": {
    "collapsed": false
   },
   "outputs": [],
   "source": [
    "row, col = 3, 5\n",
    "\n",
    "values = choice(np.arange(3).astype(np.float32), row * col)\n",
    "values[choice(values.size, row)] = np.NaN\n",
    "values = values.reshape((row, col))\n",
    "values"
   ]
  },
  {
   "cell_type": "code",
   "execution_count": null,
   "metadata": {
    "collapsed": false
   },
   "outputs": [],
   "source": [
    "Imputer(missing_values='NaN', strategy='most_frequent', axis=1).fit_transform(values)"
   ]
  }
 ],
 "metadata": {
  "kernelspec": {
   "display_name": "Python 3",
   "language": "python",
   "name": "python3"
  },
  "language_info": {
   "codemirror_mode": {
    "name": "ipython",
    "version": 3
   },
   "file_extension": ".py",
   "mimetype": "text/x-python",
   "name": "python",
   "nbconvert_exporter": "python",
   "pygments_lexer": "ipython3",
   "version": "3.5.2"
  }
 },
 "nbformat": 4,
 "nbformat_minor": 2
}
