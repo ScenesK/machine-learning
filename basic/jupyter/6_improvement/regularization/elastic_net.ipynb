{
 "cells": [
  {
   "cell_type": "markdown",
   "metadata": {},
   "source": [
    "# Elastic Net\n",
    "\n",
    "## Elastic Netとは\n",
    "\n",
    "- L1・L2両方の正則化を用いる線形回帰\n",
    "\n",
    "## 使用方法\n",
    "\n",
    "### データ準備"
   ]
  },
  {
   "cell_type": "code",
   "execution_count": null,
   "metadata": {
    "collapsed": false
   },
   "outputs": [],
   "source": [
    "import numpy as np\n",
    "from sklearn.preprocessing import PolynomialFeatures\n",
    "import matplotlib.pyplot as plt\n",
    "\n",
    "n_sample = 20\n",
    "n_dim = 20\n",
    "n_valid_feature = 5\n",
    "\n",
    "n_feature = 10\n",
    "\n",
    "np.random.seed(0)\n",
    "\n",
    "def get_multinomial(x, dim):\n",
    "    return PolynomialFeatures(degree=dim, include_bias=False).fit_transform(x[:, np.newaxis])\n",
    "\n",
    "x = np.linspace(-1, 1, n_sample)\n",
    "X = get_multinomial(x, n_dim)\n",
    "all_features = np.arange(X.shape[1])\n",
    "np.random.shuffle(all_features)\n",
    "valid_features = all_features[:n_valid_feature]\n",
    "coef = np.random.uniform(-1, 1, (n_valid_feature, 1))\n",
    "noise = np.random.normal(0, .1, (n_sample))\n",
    "y = X[:, valid_features].dot(coef).flatten() + noise\n",
    "\n",
    "plt.figure(figsize=(4, 4))\n",
    "\n",
    "plt.scatter(x, y)\n",
    "\n",
    "x_min, x_max = x.min() - .1, x.max() + .1\n",
    "y_min, y_max = y.min() - .1, y.max() + .1\n",
    "\n",
    "plt.xlim(x_min, x_max)\n",
    "plt.ylim(y_min, y_max)\n",
    "plt.xticks(())\n",
    "plt.yticks(())\n",
    "\n",
    "plt.show()"
   ]
  },
  {
   "cell_type": "markdown",
   "metadata": {},
   "source": [
    "### 学習"
   ]
  },
  {
   "cell_type": "code",
   "execution_count": null,
   "metadata": {
    "collapsed": false
   },
   "outputs": [],
   "source": [
    "from sklearn.linear_model import LinearRegression, ElasticNet\n",
    "\n",
    "linear = LinearRegression().fit(X, y)\n",
    "en = ElasticNet(alpha=0.01, normalize=True)\n",
    "en.fit(X, y)"
   ]
  },
  {
   "cell_type": "markdown",
   "metadata": {},
   "source": [
    "### 可視化"
   ]
  },
  {
   "cell_type": "code",
   "execution_count": null,
   "metadata": {
    "collapsed": false
   },
   "outputs": [],
   "source": [
    "real_coef = np.zeros(n_dim)\n",
    "real_coef[valid_features] = coef[:, 0]\n",
    "for i in range(n_dim):\n",
    "    print('Weight{n:>2}: Real = {coef:>6.3f}, Regularized = {en:>6.3f}, Not Regularized = {linear:.3f}'.format(n=i, coef=real_coef[i], en=en.coef_[i], linear=linear.coef_[i]))\n",
    "\n",
    "sample_x = np.linspace(x_min, x_max, 50)\n",
    "sample_X = get_multinomial(sample_x, n_dim)\n",
    "\n",
    "fig, axes = plt.subplots(1, 2, figsize=(6,3))\n",
    "\n",
    "for ax, title, model in zip(axes, ['Not Regularized', 'Regularized'], [linear, en]):\n",
    "    ax.set_title(title)\n",
    "    ax.set_xlim(x_min, x_max)\n",
    "    ax.set_ylim(y_min, y_max)\n",
    "    ax.set_xticks(())\n",
    "    ax.set_yticks(())\n",
    "\n",
    "    ax.scatter(x, y)\n",
    "    ax.plot(sample_x, model.predict(sample_X))\n",
    "\n",
    "plt.show()"
   ]
  }
 ],
 "metadata": {
  "kernelspec": {
   "display_name": "Python 3",
   "language": "python",
   "name": "python3"
  },
  "language_info": {
   "codemirror_mode": {
    "name": "ipython",
    "version": 3
   },
   "file_extension": ".py",
   "mimetype": "text/x-python",
   "name": "python",
   "nbconvert_exporter": "python",
   "pygments_lexer": "ipython3",
   "version": "3.5.2"
  }
 },
 "nbformat": 4,
 "nbformat_minor": 0
}
