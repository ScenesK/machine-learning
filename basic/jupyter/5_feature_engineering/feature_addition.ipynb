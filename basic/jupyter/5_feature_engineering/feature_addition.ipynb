{
 "cells": [
  {
   "cell_type": "markdown",
   "metadata": {},
   "source": [
    "# 特徴追加\n",
    "\n",
    "特徴 $x$ に対して、$y$ が常に線形とは限らない。累乗 $\\begin{eqnarray}\\left(x^2,\\ x^{-1}=\\frac{1}{x},\\ x^{\\frac{1}{2}}=\\sqrt[]{x}\\right)\\end{eqnarray}$、比率 $\\begin{eqnarray}\\left(\\frac{x_1}{x_2}\\right)\\end{eqnarray}$、乗算 $\\left(x_1\\times x_2\\right)$、対数 $\\left(log(x)\\right)$ のほうが $y$ を予測するのに適している場合がある。\n",
    "\n",
    "多項式の特徴を追加することでモデルのバリアンスを高くして、フィッティングさせられることもある。\n",
    "\n",
    "## 多項式"
   ]
  },
  {
   "cell_type": "code",
   "execution_count": null,
   "metadata": {
    "collapsed": false
   },
   "outputs": [],
   "source": [
    "import numpy as np\n",
    "from sklearn.preprocessing import PolynomialFeatures\n",
    "\n",
    "# x1, x2\n",
    "X = np.array([[0.5, 1.5], [2.5, 3.5]])\n",
    "polynomial = PolynomialFeatures(degree=3, include_bias=False)\n",
    "poly_X = polynomial.fit_transform(X)\n",
    "# x1, x2, x1 ** 2, x1 * x2, x2 ** 2, x1 ** 3, x1 ** 2 * x2, x1 * x2 ** 2, x2 ** 3\n",
    "poly_X"
   ]
  },
  {
   "cell_type": "markdown",
   "metadata": {},
   "source": [
    "## ニューラルネットワークによる特徴変換"
   ]
  },
  {
   "cell_type": "code",
   "execution_count": null,
   "metadata": {
    "collapsed": false
   },
   "outputs": [],
   "source": [
    "from math import ceil\n",
    "import numpy as np\n",
    "from sklearn.datasets import load_boston\n",
    "from sklearn.preprocessing import MinMaxScaler\n",
    "from keras.models import Model\n",
    "from keras.models import Sequential\n",
    "from keras.layers.local import LocallyConnected1D\n",
    "from keras.layers import Input, Activation, Flatten, Dense\n",
    "from keras.layers.normalization import BatchNormalization\n",
    "import keras.backend as B\n",
    "import tensorflow as tf\n",
    "import matplotlib.pyplot as plt\n",
    "\n",
    "loader = load_boston()\n",
    "X, y, feature = loader.data, loader.target, loader.feature_names\n",
    "scaled_X = MinMaxScaler().fit_transform(X)[:, :, np.newaxis]\n",
    "\n",
    "inputs = Input(shape=(X.shape[1], 1))\n",
    "net = inputs\n",
    "for _ in range(2):\n",
    "    net = LocallyConnected1D(10, 1, W_regularizer='l2')(net)\n",
    "    net = BatchNormalization()(net)\n",
    "    net = Activation('relu')(net)\n",
    "net = LocallyConnected1D(1, 1, W_regularizer='l2')(net)\n",
    "transformed = Flatten(name='transformed')(net)\n",
    "output = Dense(1, W_regularizer='l2', name='output')(transformed)\n",
    "model = Model(input=inputs, output=[output, transformed])\n",
    "model.compile(optimizer='adam', loss='mse', loss_weights={'output': 1., 'transformed': 0.})\n",
    "B.get_session().run(tf.global_variables_initializer())\n",
    "\n",
    "history = model.fit(scaled_X, [y, np.zeros((len(y), X.shape[1]))], nb_epoch=300, batch_size=128, verbose=0).history['output_loss']\n",
    "plt.plot(np.arange(len(history)) + 1, history)\n",
    "plt.show()"
   ]
  },
  {
   "cell_type": "code",
   "execution_count": null,
   "metadata": {
    "collapsed": false
   },
   "outputs": [],
   "source": [
    "for l in model.layers :\n",
    "    if l.name == 'output':\n",
    "        weights = l.get_weights()[0]\n",
    "xx = np.linspace(0, 1, 50).reshape((-1, 1, 1)).repeat(X.shape[1], axis=1)\n",
    "yy = model.predict(xx)[1] * weights[:, 0]\n",
    "y_min, y_max = yy.min(), yy.max()\n",
    "\n",
    "cols = 4\n",
    "rows = ceil(X.shape[1] / float(cols))\n",
    "fig, axes = plt.subplots(rows, cols, figsize=(cols * 4, rows * 4))\n",
    "for i, row in enumerate(axes):\n",
    "    for j, ax in enumerate(row):\n",
    "        n = i *cols + j\n",
    "        if n == X.shape[1]:\n",
    "            break\n",
    "        ax.set_title(feature[n])\n",
    "        ax.plot(xx[:, n, 0], yy[:, n])\n",
    "        ax.set_ylim(y_min, y_max)\n",
    "\n",
    "plt.show()"
   ]
  }
 ],
 "metadata": {
  "kernelspec": {
   "display_name": "Python 3",
   "language": "python",
   "name": "python3"
  },
  "language_info": {
   "codemirror_mode": {
    "name": "ipython",
    "version": 3
   },
   "file_extension": ".py",
   "mimetype": "text/x-python",
   "name": "python",
   "nbconvert_exporter": "python",
   "pygments_lexer": "ipython3",
   "version": "3.5.2"
  }
 },
 "nbformat": 4,
 "nbformat_minor": 2
}
