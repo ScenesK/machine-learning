{
 "cells": [
  {
   "cell_type": "markdown",
   "metadata": {},
   "source": [
    "# モデル評価の意義\n",
    "\n",
    "## 過学習(overfitting)\n",
    "\n",
    "訓練データでは高い精度が出るのに、未知のデータではそれほど精度が出ないことがよくある。この状態を過学習(overfitting)といい、訓練データに対して過剰に適合した結果である。\n",
    "\n",
    "未知のデータでも訓練データと同じような精度が出るモデルは汎化(generalization)能力が高い。\n",
    "\n",
    "訓練データでも未知のデータでも求める精度が出ない状態のことは未学習(underfitting)という。\n",
    "\n",
    "モデルのパラメータが多く過学習しやすいモデルのことを高バリアンス(high variance)、逆にパラメータが少なく未学習が起きやすいモデルのことを高バイアス(high bias)であるという。\n",
    "\n",
    "過学習は、訓練データに対してモデルが複雑すぎる(高バリアンス)ために起きる。\n",
    "\n",
    "||訓練データで高精度|訓練データで低精度|\n",
    "|:-:|:-:|:-:|\n",
    "|未知のデータで高精度|理想|-|\n",
    "|未知のデータで低精度|過学習・高バリアンス|未学習・高バイアス|"
   ]
  },
  {
   "cell_type": "code",
   "execution_count": null,
   "metadata": {
    "collapsed": false
   },
   "outputs": [],
   "source": [
    "import numpy as np\n",
    "from sklearn.linear_model import LinearRegression\n",
    "from sklearn.pipeline import Pipeline\n",
    "from sklearn.preprocessing import PolynomialFeatures\n",
    "import matplotlib.pyplot as plt\n",
    "\n",
    "np.random.seed(0)\n",
    "\n",
    "n_sample = 9\n",
    "x = np.linspace(-2, 2, n_sample)\n",
    "y = x * (x - 1) * (x + 1) + np.random.normal(scale=.2, size=n_sample)\n",
    "z = np.linspace(-2, 2, 100).reshape((-1, 1))\n",
    "\n",
    "fig, axes = plt.subplots(1, 4, figsize=(12,3))\n",
    "\n",
    "titles = ['sample', 'underfitting', 'fitting', 'overfitting']\n",
    "for i, ax in enumerate(axes):\n",
    "    ax.set_title(titles[i])\n",
    "    ax.set_xlim(x.min() - .1, x.max() + .1)\n",
    "    ax.set_ylim(y.min() - .1, y.max() + .1)\n",
    "    ax.set_xticks(())\n",
    "    ax.set_yticks(())\n",
    "\n",
    "    ax.scatter(x, y, color='red', marker='x')\n",
    "\n",
    "    if i == 0:\n",
    "        continue\n",
    "    elif i == 1:\n",
    "        pred = LinearRegression().fit(x[:, np.newaxis], y).predict(z)\n",
    "    elif i == 2:\n",
    "        pred = z * (z - 1) * (z + 1)\n",
    "    else:\n",
    "        model = Pipeline([('transform', PolynomialFeatures(degree=11)), ('linear', LinearRegression())])\n",
    "        pred = model.fit(x[:, np.newaxis], y).predict(z)\n",
    "\n",
    "    ax.plot(z, pred)\n",
    "\n",
    "plt.show()"
   ]
  }
 ],
 "metadata": {
  "kernelspec": {
   "display_name": "Python 3",
   "language": "python",
   "name": "python3"
  },
  "language_info": {
   "codemirror_mode": {
    "name": "ipython",
    "version": 3
   },
   "file_extension": ".py",
   "mimetype": "text/x-python",
   "name": "python",
   "nbconvert_exporter": "python",
   "pygments_lexer": "ipython3",
   "version": "3.5.2"
  }
 },
 "nbformat": 4,
 "nbformat_minor": 2
}
