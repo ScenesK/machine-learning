{
 "cells": [
  {
   "cell_type": "markdown",
   "metadata": {},
   "source": [
    "# 機械学習の分類\n",
    "\n",
    "## 教師あり学習(Supervised Learning)\n",
    "\n",
    "- トレーニングデータからモデルを学習し、未知のデータに対して答えを予測\n",
    " - スパムフィルタ\n",
    " - 画像分類\n",
    " - 株価予測\n",
    "- 主なものに分類(classification = カテゴリを予測)と回帰(regression = 数値を予測)\n",
    "\n",
    "## 教師なし学習(Unsupervised Learning)\n",
    "\n",
    "- 構造が不明なデータから意味のある情報を取り出す\n",
    " - クラスタリング(clustering)\n",
    " - 次元削減\n",
    "\n",
    "## 半教師あり学習(Semi-supervised Learning)\n",
    "\n",
    "- 少数のラベル付き教師データと多数のラベルなしデータから、教師あり学習のようにモデルを学習\n",
    " - 生成モデル\n",
    " - Self-training\n",
    "\n",
    "## 強化学習(Reinforcement Learning)\n",
    "\n",
    "- 特定の環境内で、試行錯誤しながら得られる報酬を最大化する行動を学習\n",
    " - テレビゲームをプレイするAI\n",
    " - 自動運転車\n"
   ]
  }
 ],
 "metadata": {
  "kernelspec": {
   "display_name": "Python 3",
   "language": "python",
   "name": "python3"
  },
  "language_info": {
   "codemirror_mode": {
    "name": "ipython",
    "version": 3
   },
   "file_extension": ".py",
   "mimetype": "text/x-python",
   "name": "python",
   "nbconvert_exporter": "python",
   "pygments_lexer": "ipython3",
   "version": "3.5.2"
  }
 },
 "nbformat": 4,
 "nbformat_minor": 0
}
